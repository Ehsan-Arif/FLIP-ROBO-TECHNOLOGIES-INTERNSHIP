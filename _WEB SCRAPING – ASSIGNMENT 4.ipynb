{
 "cells": [
  {
   "cell_type": "markdown",
   "id": "0763124b",
   "metadata": {},
   "source": [
    "# 1. Scrape the details of most viewed videos on YouTube from Wikipedia. Url = https://en.wikipedia.org/wiki/List_of_most-viewed_YouTube_videos\n",
    "\n",
    "## You need to find following details:\n",
    "\n",
    "A) Rank\n",
    "\n",
    "B) Name\n",
    "\n",
    "C) Artist\n",
    "\n",
    "D) Upload date\n",
    "\n",
    "E) Views"
   ]
  },
  {
   "cell_type": "code",
   "execution_count": 15,
   "id": "36e00513",
   "metadata": {},
   "outputs": [],
   "source": [
    "#Lets import all the required libraries \n",
    "import selenium # Libraries that is used to work  with selenium\n",
    "from selenium import webdriver # importing web driver module from selenium to open automated edge window\n",
    "import pandas as pd # to create dataframe\n",
    "from selenium.webdriver.common.by import By#importing inbuild class BY\n",
    "import warnings #to ignore any sort warnings\n",
    "warnings.filterwarnings('ignore')\n",
    "import time# used to stop search engine for few seconds"
   ]
  },
  {
   "cell_type": "code",
   "execution_count": 16,
   "id": "096437ac",
   "metadata": {},
   "outputs": [],
   "source": [
    "import re\n",
    "from selenium.common.exceptions import NoSuchElementException, StaleElementReferenceException\n",
    "from selenium.webdriver.support.ui import WebDriverWait"
   ]
  },
  {
   "cell_type": "code",
   "execution_count": 17,
   "id": "a35f662c",
   "metadata": {},
   "outputs": [
    {
     "data": {
      "text/plain": [
       "<selenium.webdriver.chrome.webdriver.WebDriver (session=\"36916c40ce1b714e5a2a1f7e0885bc9b\")>"
      ]
     },
     "execution_count": 17,
     "metadata": {},
     "output_type": "execute_result"
    }
   ],
   "source": [
    "#First Connect to web driver \n",
    "\n",
    "driver = webdriver.Chrome(r\"C:\\Users\\ehsan\\anaconda3\\Chrome.exe\")\n",
    "driver"
   ]
  },
  {
   "cell_type": "code",
   "execution_count": 18,
   "id": "a4b89220",
   "metadata": {},
   "outputs": [],
   "source": [
    "url=\"https://en.wikipedia.org/wiki/List_of_most-viewed_YouTube_videos\" # Here i am assigning the link in url name variable \n",
    "driver.get(url)"
   ]
  },
  {
   "cell_type": "code",
   "execution_count": 19,
   "id": "7a24922e",
   "metadata": {},
   "outputs": [],
   "source": [
    "Rank=[]"
   ]
  },
  {
   "cell_type": "code",
   "execution_count": 20,
   "id": "b2055806",
   "metadata": {},
   "outputs": [],
   "source": [
    "try:\n",
    "    for i in driver.find_elements(By.XPATH,'//table[@class=\"wikitable sortable jquery-tablesorter\"]//tbody//tr//td[1]')[:30]:\n",
    "        Rank.append(i.text)\n",
    "except NoSuchElementException:\n",
    "    Rank.append('-')"
   ]
  },
  {
   "cell_type": "code",
   "execution_count": 21,
   "id": "9597d58d",
   "metadata": {},
   "outputs": [],
   "source": [
    "Name=[]"
   ]
  },
  {
   "cell_type": "code",
   "execution_count": 22,
   "id": "e054a2f7",
   "metadata": {},
   "outputs": [],
   "source": [
    "try:\n",
    "    for i in driver.find_elements(By.XPATH,'//table[@class=\"wikitable sortable jquery-tablesorter\"]//tbody//tr//td[2]')[:30]:\n",
    "        Name.append(i.text)\n",
    "except NoSuchElementException:\n",
    "    Name.append('-')"
   ]
  },
  {
   "cell_type": "code",
   "execution_count": 23,
   "id": "1a05d759",
   "metadata": {},
   "outputs": [],
   "source": [
    "Artist=[]\n",
    "try:\n",
    "    for i in driver.find_elements(By.XPATH,'//table[@class=\"wikitable sortable jquery-tablesorter\"]//tbody//tr//td[3]')[:30]:\n",
    "        Artist.append(i.text)\n",
    "except NoSuchElementException:\n",
    "    Artist.append('-')"
   ]
  },
  {
   "cell_type": "code",
   "execution_count": 24,
   "id": "359ebd25",
   "metadata": {},
   "outputs": [],
   "source": [
    " Upload_Date=[]\n",
    "try:\n",
    "    for i in driver.find_elements(By.XPATH,'//table[@class=\"wikitable sortable jquery-tablesorter\"]//tbody//tr//td[5]')[:30]:\n",
    "        Upload_Date.append(i.text)\n",
    "except NoSuchElementException:\n",
    "    Upload_Date.append('-')"
   ]
  },
  {
   "cell_type": "code",
   "execution_count": 25,
   "id": "290f29c9",
   "metadata": {},
   "outputs": [],
   "source": [
    "Views=[]\n",
    "try:\n",
    "    for i in driver.find_elements(By.XPATH,'//table[@class=\"wikitable sortable jquery-tablesorter\"]//tbody//tr//td[4]')[:30]:\n",
    "        Views.append(i.text)\n",
    "except NoSuchElementException:\n",
    "    Views.append('-')"
   ]
  },
  {
   "cell_type": "code",
   "execution_count": 26,
   "id": "c4a302fd",
   "metadata": {},
   "outputs": [],
   "source": [
    "#Lets Make DataFrame\n",
    "import pandas as pd"
   ]
  },
  {
   "cell_type": "code",
   "execution_count": 27,
   "id": "5351e952",
   "metadata": {},
   "outputs": [
    {
     "data": {
      "text/html": [
       "<div>\n",
       "<style scoped>\n",
       "    .dataframe tbody tr th:only-of-type {\n",
       "        vertical-align: middle;\n",
       "    }\n",
       "\n",
       "    .dataframe tbody tr th {\n",
       "        vertical-align: top;\n",
       "    }\n",
       "\n",
       "    .dataframe thead th {\n",
       "        text-align: right;\n",
       "    }\n",
       "</style>\n",
       "<table border=\"1\" class=\"dataframe\">\n",
       "  <thead>\n",
       "    <tr style=\"text-align: right;\">\n",
       "      <th></th>\n",
       "      <th>Rank</th>\n",
       "      <th>Name</th>\n",
       "      <th>Artist</th>\n",
       "      <th>Upload_Date</th>\n",
       "      <th>Views</th>\n",
       "    </tr>\n",
       "  </thead>\n",
       "  <tbody>\n",
       "    <tr>\n",
       "      <th>0</th>\n",
       "      <td>1.</td>\n",
       "      <td>\"Baby Shark Dance\"[4]</td>\n",
       "      <td>Pinkfong Baby Shark - Kids' Songs &amp; Stories</td>\n",
       "      <td>June 17, 2016</td>\n",
       "      <td>12.73</td>\n",
       "    </tr>\n",
       "    <tr>\n",
       "      <th>1</th>\n",
       "      <td>2.</td>\n",
       "      <td>\"Despacito\"[7]</td>\n",
       "      <td>Luis Fonsi</td>\n",
       "      <td>January 12, 2017</td>\n",
       "      <td>8.14</td>\n",
       "    </tr>\n",
       "    <tr>\n",
       "      <th>2</th>\n",
       "      <td>3.</td>\n",
       "      <td>\"Johny Johny Yes Papa\"[14]</td>\n",
       "      <td>LooLoo Kids</td>\n",
       "      <td>October 8, 2016</td>\n",
       "      <td>6.69</td>\n",
       "    </tr>\n",
       "    <tr>\n",
       "      <th>3</th>\n",
       "      <td>4.</td>\n",
       "      <td>\"Bath Song\"[15]</td>\n",
       "      <td>Cocomelon – Nursery Rhymes</td>\n",
       "      <td>May 2, 2018</td>\n",
       "      <td>6.15</td>\n",
       "    </tr>\n",
       "    <tr>\n",
       "      <th>4</th>\n",
       "      <td>5.</td>\n",
       "      <td>\"Shape of You\"[16]</td>\n",
       "      <td>Ed Sheeran</td>\n",
       "      <td>January 30, 2017</td>\n",
       "      <td>5.97</td>\n",
       "    </tr>\n",
       "    <tr>\n",
       "      <th>5</th>\n",
       "      <td>6.</td>\n",
       "      <td>\"See You Again\"[18]</td>\n",
       "      <td>Wiz Khalifa</td>\n",
       "      <td>April 6, 2015</td>\n",
       "      <td>5.86</td>\n",
       "    </tr>\n",
       "    <tr>\n",
       "      <th>6</th>\n",
       "      <td>7.</td>\n",
       "      <td>\"Phonics Song with Two Words\"[23]</td>\n",
       "      <td>ChuChu TV</td>\n",
       "      <td>March 6, 2014</td>\n",
       "      <td>5.26</td>\n",
       "    </tr>\n",
       "    <tr>\n",
       "      <th>7</th>\n",
       "      <td>8.</td>\n",
       "      <td>\"Wheels on the Bus\"[24]</td>\n",
       "      <td>Cocomelon – Nursery Rhymes</td>\n",
       "      <td>May 24, 2018</td>\n",
       "      <td>5.14</td>\n",
       "    </tr>\n",
       "    <tr>\n",
       "      <th>8</th>\n",
       "      <td>9.</td>\n",
       "      <td>\"Uptown Funk\"[25]</td>\n",
       "      <td>Mark Ronson</td>\n",
       "      <td>November 19, 2014</td>\n",
       "      <td>4.89</td>\n",
       "    </tr>\n",
       "    <tr>\n",
       "      <th>9</th>\n",
       "      <td>10.</td>\n",
       "      <td>\"Learning Colors – Colorful Eggs on a Farm\"[26]</td>\n",
       "      <td>Miroshka TV</td>\n",
       "      <td>February 27, 2018</td>\n",
       "      <td>4.87</td>\n",
       "    </tr>\n",
       "    <tr>\n",
       "      <th>10</th>\n",
       "      <td>11.</td>\n",
       "      <td>\"Gangnam Style\"[27]</td>\n",
       "      <td>Psy</td>\n",
       "      <td>July 15, 2012</td>\n",
       "      <td>4.77</td>\n",
       "    </tr>\n",
       "    <tr>\n",
       "      <th>11</th>\n",
       "      <td>12.</td>\n",
       "      <td>\"Masha and the Bear – Recipe for Disaster\"[32]</td>\n",
       "      <td>Get Movies</td>\n",
       "      <td>January 31, 2012</td>\n",
       "      <td>4.55</td>\n",
       "    </tr>\n",
       "    <tr>\n",
       "      <th>12</th>\n",
       "      <td>13.</td>\n",
       "      <td>\"Dame Tu Cosita\"[33]</td>\n",
       "      <td>El Chombo</td>\n",
       "      <td>April 5, 2018</td>\n",
       "      <td>4.32</td>\n",
       "    </tr>\n",
       "    <tr>\n",
       "      <th>13</th>\n",
       "      <td>14.</td>\n",
       "      <td>\"Axel F\"[34]</td>\n",
       "      <td>Crazy Frog</td>\n",
       "      <td>June 16, 2009</td>\n",
       "      <td>3.87</td>\n",
       "    </tr>\n",
       "    <tr>\n",
       "      <th>14</th>\n",
       "      <td>15.</td>\n",
       "      <td>\"Sugar\"[35]</td>\n",
       "      <td>Maroon 5</td>\n",
       "      <td>January 14, 2015</td>\n",
       "      <td>3.86</td>\n",
       "    </tr>\n",
       "    <tr>\n",
       "      <th>15</th>\n",
       "      <td>16.</td>\n",
       "      <td>\"Roar\"[36]</td>\n",
       "      <td>Katy Perry</td>\n",
       "      <td>September 5, 2013</td>\n",
       "      <td>3.78</td>\n",
       "    </tr>\n",
       "    <tr>\n",
       "      <th>16</th>\n",
       "      <td>17.</td>\n",
       "      <td>\"Counting Stars\"[37]</td>\n",
       "      <td>OneRepublic</td>\n",
       "      <td>May 31, 2013</td>\n",
       "      <td>3.77</td>\n",
       "    </tr>\n",
       "    <tr>\n",
       "      <th>17</th>\n",
       "      <td>18.</td>\n",
       "      <td>\"Sorry\"[38]</td>\n",
       "      <td>Justin Bieber</td>\n",
       "      <td>October 22, 2015</td>\n",
       "      <td>3.65</td>\n",
       "    </tr>\n",
       "    <tr>\n",
       "      <th>18</th>\n",
       "      <td>19.</td>\n",
       "      <td>\"Baa Baa Black Sheep\"[39]</td>\n",
       "      <td>Cocomelon – Nursery Rhymes</td>\n",
       "      <td>June 25, 2018</td>\n",
       "      <td>3.61</td>\n",
       "    </tr>\n",
       "    <tr>\n",
       "      <th>19</th>\n",
       "      <td>20.</td>\n",
       "      <td>\"Thinking Out Loud\"[40]</td>\n",
       "      <td>Ed Sheeran</td>\n",
       "      <td>October 7, 2014</td>\n",
       "      <td>3.58</td>\n",
       "    </tr>\n",
       "    <tr>\n",
       "      <th>20</th>\n",
       "      <td>21.</td>\n",
       "      <td>\"Waka Waka (This Time for Africa)\"[41]</td>\n",
       "      <td>Shakira</td>\n",
       "      <td>June 4, 2010</td>\n",
       "      <td>3.56</td>\n",
       "    </tr>\n",
       "    <tr>\n",
       "      <th>21</th>\n",
       "      <td>22.</td>\n",
       "      <td>\"Dark Horse\"[42]</td>\n",
       "      <td>Katy Perry</td>\n",
       "      <td>February 20, 2014</td>\n",
       "      <td>3.50</td>\n",
       "    </tr>\n",
       "    <tr>\n",
       "      <th>22</th>\n",
       "      <td>23.</td>\n",
       "      <td>\"Faded\"[43]</td>\n",
       "      <td>Alan Walker</td>\n",
       "      <td>December 3, 2015</td>\n",
       "      <td>3.44</td>\n",
       "    </tr>\n",
       "    <tr>\n",
       "      <th>23</th>\n",
       "      <td>24.</td>\n",
       "      <td>\"Perfect\"[44]</td>\n",
       "      <td>Ed Sheeran</td>\n",
       "      <td>November 9, 2017</td>\n",
       "      <td>3.42</td>\n",
       "    </tr>\n",
       "    <tr>\n",
       "      <th>24</th>\n",
       "      <td>25.</td>\n",
       "      <td>\"Lakdi Ki Kathi\"[45]</td>\n",
       "      <td>Jingle Toons</td>\n",
       "      <td>June 14, 2018</td>\n",
       "      <td>3.42</td>\n",
       "    </tr>\n",
       "    <tr>\n",
       "      <th>25</th>\n",
       "      <td>26.</td>\n",
       "      <td>\"Let Her Go\"[46]</td>\n",
       "      <td>Passenger</td>\n",
       "      <td>July 25, 2012</td>\n",
       "      <td>3.42</td>\n",
       "    </tr>\n",
       "    <tr>\n",
       "      <th>26</th>\n",
       "      <td>27.</td>\n",
       "      <td>\"Girls Like You\"[47]</td>\n",
       "      <td>Maroon 5</td>\n",
       "      <td>May 31, 2018</td>\n",
       "      <td>3.40</td>\n",
       "    </tr>\n",
       "    <tr>\n",
       "      <th>27</th>\n",
       "      <td>28.</td>\n",
       "      <td>\"Humpty the train on a fruits ride\"[48]</td>\n",
       "      <td>Kiddiestv Hindi – Nursery Rhymes &amp; Kids Songs</td>\n",
       "      <td>January 26, 2018</td>\n",
       "      <td>3.38</td>\n",
       "    </tr>\n",
       "    <tr>\n",
       "      <th>28</th>\n",
       "      <td>29.</td>\n",
       "      <td>\"Lean On\"[49]</td>\n",
       "      <td>Major Lazer</td>\n",
       "      <td>March 22, 2015</td>\n",
       "      <td>3.37</td>\n",
       "    </tr>\n",
       "    <tr>\n",
       "      <th>29</th>\n",
       "      <td>30.</td>\n",
       "      <td>\"Bailando\"[50]</td>\n",
       "      <td>Enrique Iglesias</td>\n",
       "      <td>April 11, 2014</td>\n",
       "      <td>3.37</td>\n",
       "    </tr>\n",
       "  </tbody>\n",
       "</table>\n",
       "</div>"
      ],
      "text/plain": [
       "   Rank                                             Name  \\\n",
       "0    1.                            \"Baby Shark Dance\"[4]   \n",
       "1    2.                                   \"Despacito\"[7]   \n",
       "2    3.                       \"Johny Johny Yes Papa\"[14]   \n",
       "3    4.                                  \"Bath Song\"[15]   \n",
       "4    5.                               \"Shape of You\"[16]   \n",
       "5    6.                              \"See You Again\"[18]   \n",
       "6    7.                \"Phonics Song with Two Words\"[23]   \n",
       "7    8.                          \"Wheels on the Bus\"[24]   \n",
       "8    9.                                \"Uptown Funk\"[25]   \n",
       "9   10.  \"Learning Colors – Colorful Eggs on a Farm\"[26]   \n",
       "10  11.                              \"Gangnam Style\"[27]   \n",
       "11  12.   \"Masha and the Bear – Recipe for Disaster\"[32]   \n",
       "12  13.                             \"Dame Tu Cosita\"[33]   \n",
       "13  14.                                     \"Axel F\"[34]   \n",
       "14  15.                                      \"Sugar\"[35]   \n",
       "15  16.                                       \"Roar\"[36]   \n",
       "16  17.                             \"Counting Stars\"[37]   \n",
       "17  18.                                      \"Sorry\"[38]   \n",
       "18  19.                        \"Baa Baa Black Sheep\"[39]   \n",
       "19  20.                          \"Thinking Out Loud\"[40]   \n",
       "20  21.           \"Waka Waka (This Time for Africa)\"[41]   \n",
       "21  22.                                 \"Dark Horse\"[42]   \n",
       "22  23.                                      \"Faded\"[43]   \n",
       "23  24.                                    \"Perfect\"[44]   \n",
       "24  25.                             \"Lakdi Ki Kathi\"[45]   \n",
       "25  26.                                 \"Let Her Go\"[46]   \n",
       "26  27.                             \"Girls Like You\"[47]   \n",
       "27  28.          \"Humpty the train on a fruits ride\"[48]   \n",
       "28  29.                                    \"Lean On\"[49]   \n",
       "29  30.                                   \"Bailando\"[50]   \n",
       "\n",
       "                                           Artist        Upload_Date  Views  \n",
       "0     Pinkfong Baby Shark - Kids' Songs & Stories      June 17, 2016  12.73  \n",
       "1                                      Luis Fonsi   January 12, 2017   8.14  \n",
       "2                                     LooLoo Kids    October 8, 2016   6.69  \n",
       "3                      Cocomelon – Nursery Rhymes        May 2, 2018   6.15  \n",
       "4                                      Ed Sheeran   January 30, 2017   5.97  \n",
       "5                                     Wiz Khalifa      April 6, 2015   5.86  \n",
       "6                                       ChuChu TV      March 6, 2014   5.26  \n",
       "7                      Cocomelon – Nursery Rhymes       May 24, 2018   5.14  \n",
       "8                                     Mark Ronson  November 19, 2014   4.89  \n",
       "9                                     Miroshka TV  February 27, 2018   4.87  \n",
       "10                                            Psy      July 15, 2012   4.77  \n",
       "11                                     Get Movies   January 31, 2012   4.55  \n",
       "12                                      El Chombo      April 5, 2018   4.32  \n",
       "13                                     Crazy Frog      June 16, 2009   3.87  \n",
       "14                                       Maroon 5   January 14, 2015   3.86  \n",
       "15                                     Katy Perry  September 5, 2013   3.78  \n",
       "16                                    OneRepublic       May 31, 2013   3.77  \n",
       "17                                  Justin Bieber   October 22, 2015   3.65  \n",
       "18                     Cocomelon – Nursery Rhymes      June 25, 2018   3.61  \n",
       "19                                     Ed Sheeran    October 7, 2014   3.58  \n",
       "20                                        Shakira       June 4, 2010   3.56  \n",
       "21                                     Katy Perry  February 20, 2014   3.50  \n",
       "22                                    Alan Walker   December 3, 2015   3.44  \n",
       "23                                     Ed Sheeran   November 9, 2017   3.42  \n",
       "24                                   Jingle Toons      June 14, 2018   3.42  \n",
       "25                                      Passenger      July 25, 2012   3.42  \n",
       "26                                       Maroon 5       May 31, 2018   3.40  \n",
       "27  Kiddiestv Hindi – Nursery Rhymes & Kids Songs   January 26, 2018   3.38  \n",
       "28                                    Major Lazer     March 22, 2015   3.37  \n",
       "29                               Enrique Iglesias     April 11, 2014   3.37  "
      ]
     },
     "execution_count": 27,
     "metadata": {},
     "output_type": "execute_result"
    }
   ],
   "source": [
    "data=pd.DataFrame({'Rank':Rank,'Name':Name,\"Artist\":Artist,\"Upload_Date\":Upload_Date,\"Views\":Views})\n",
    "data"
   ]
  },
  {
   "cell_type": "code",
   "execution_count": 28,
   "id": "84ff36af",
   "metadata": {},
   "outputs": [],
   "source": [
    "driver.close()"
   ]
  },
  {
   "cell_type": "markdown",
   "id": "63156724",
   "metadata": {},
   "source": [
    "# 2. Scrape the details team India’s international fixtures from bcci.tv. Url = https://www.bcci.tv/.\n",
    "\n",
    "## You need to find following details:\n",
    "\n",
    "A) Match title (I.e. 1 st ODI)\n",
    "\n",
    "B) Series\n",
    "\n",
    "C) Place\n",
    "\n",
    "D) Date\n",
    "\n",
    "E) Time\n",
    "\n",
    "Note: - From bcci.tv home page you have reach to the international fixture page through code."
   ]
  },
  {
   "cell_type": "code",
   "execution_count": 39,
   "id": "8e3fad44",
   "metadata": {},
   "outputs": [
    {
     "data": {
      "text/plain": [
       "<selenium.webdriver.chrome.webdriver.WebDriver (session=\"e180498eb1eb0da3951060db5e50358b\")>"
      ]
     },
     "execution_count": 39,
     "metadata": {},
     "output_type": "execute_result"
    }
   ],
   "source": [
    "#First Connect to web driver \n",
    "\n",
    "driver = webdriver.Chrome(r\"C:\\Users\\ehsan\\anaconda3\\Chrome.exe\")\n",
    "driver"
   ]
  },
  {
   "cell_type": "code",
   "execution_count": 40,
   "id": "17467f75",
   "metadata": {},
   "outputs": [],
   "source": [
    "url=\"https://www.bcci.tv/\" # Here i am assigning the link in url name variable \n",
    "driver.get(url)"
   ]
  },
  {
   "cell_type": "code",
   "execution_count": 41,
   "id": "c6efc998",
   "metadata": {},
   "outputs": [],
   "source": [
    "#Clicking using absolute xpath function\n",
    "search_btn=driver.find_element(By.XPATH,'/html/body/div[5]/div/div[1]/div/ul/li[1]/a')\n",
    "search_btn.click()"
   ]
  },
  {
   "cell_type": "code",
   "execution_count": 42,
   "id": "fa492d5d",
   "metadata": {},
   "outputs": [],
   "source": [
    "Match_title=[]\n",
    "try:\n",
    "    for i in driver.find_elements(By.XPATH,'//*[@id=\"match-card\"]/div[1]/h5'):\n",
    "        Match_title.append(i.text.replace('-',\"\"))\n",
    "except NoSuchElementException:\n",
    "    Match_title.append('-')"
   ]
  },
  {
   "cell_type": "code",
   "execution_count": 43,
   "id": "52a74f6e",
   "metadata": {},
   "outputs": [],
   "source": [
    "Place=[]\n",
    "try:\n",
    "    for i in driver.find_elements(By.XPATH,'//*[@id=\"match-card\"]/div[3]/div/span[3]'):\n",
    "        Place.append(i.text)\n",
    "except NoSuchElementException:\n",
    "    Place.append('-')"
   ]
  },
  {
   "cell_type": "code",
   "execution_count": 44,
   "id": "11dd8b51",
   "metadata": {},
   "outputs": [],
   "source": [
    "Date=[]\n",
    "try:\n",
    "    for i in driver.find_elements(By.XPATH,'//*[@id=\"match-card\"]/div[1]/div/div[1]'):\n",
    "        Date.append(i.text)\n",
    "except NoSuchElementException:\n",
    "    Date.append('-')"
   ]
  },
  {
   "cell_type": "code",
   "execution_count": 45,
   "id": "77651916",
   "metadata": {},
   "outputs": [],
   "source": [
    "Time=[]\n",
    "try:\n",
    "    for i in driver.find_elements(By.XPATH,'//*[@id=\"match-card\"]/div[1]/div/div[2]'):\n",
    "        Time.append(i.text)\n",
    "except NoSuchElementException:\n",
    "    Time.append('-')"
   ]
  },
  {
   "cell_type": "code",
   "execution_count": 46,
   "id": "e380d4b7",
   "metadata": {},
   "outputs": [
    {
     "data": {
      "text/html": [
       "<div>\n",
       "<style scoped>\n",
       "    .dataframe tbody tr th:only-of-type {\n",
       "        vertical-align: middle;\n",
       "    }\n",
       "\n",
       "    .dataframe tbody tr th {\n",
       "        vertical-align: top;\n",
       "    }\n",
       "\n",
       "    .dataframe thead th {\n",
       "        text-align: right;\n",
       "    }\n",
       "</style>\n",
       "<table border=\"1\" class=\"dataframe\">\n",
       "  <thead>\n",
       "    <tr style=\"text-align: right;\">\n",
       "      <th></th>\n",
       "      <th>Match_title</th>\n",
       "      <th>Place</th>\n",
       "      <th>Date</th>\n",
       "      <th>Time</th>\n",
       "    </tr>\n",
       "  </thead>\n",
       "  <tbody>\n",
       "    <tr>\n",
       "      <th>0</th>\n",
       "      <td>ICC WORLD TEST CHAMPIONSHIP FINAL 2023</td>\n",
       "      <td>London</td>\n",
       "      <td>7 JUN 2023</td>\n",
       "      <td>3:30 PM IST</td>\n",
       "    </tr>\n",
       "    <tr>\n",
       "      <th>1</th>\n",
       "      <td></td>\n",
       "      <td></td>\n",
       "      <td></td>\n",
       "      <td></td>\n",
       "    </tr>\n",
       "    <tr>\n",
       "      <th>2</th>\n",
       "      <td></td>\n",
       "      <td></td>\n",
       "      <td></td>\n",
       "      <td></td>\n",
       "    </tr>\n",
       "    <tr>\n",
       "      <th>3</th>\n",
       "      <td></td>\n",
       "      <td></td>\n",
       "      <td></td>\n",
       "      <td></td>\n",
       "    </tr>\n",
       "    <tr>\n",
       "      <th>4</th>\n",
       "      <td></td>\n",
       "      <td></td>\n",
       "      <td></td>\n",
       "      <td></td>\n",
       "    </tr>\n",
       "    <tr>\n",
       "      <th>5</th>\n",
       "      <td></td>\n",
       "      <td></td>\n",
       "      <td></td>\n",
       "      <td></td>\n",
       "    </tr>\n",
       "    <tr>\n",
       "      <th>6</th>\n",
       "      <td></td>\n",
       "      <td></td>\n",
       "      <td></td>\n",
       "      <td></td>\n",
       "    </tr>\n",
       "    <tr>\n",
       "      <th>7</th>\n",
       "      <td></td>\n",
       "      <td></td>\n",
       "      <td></td>\n",
       "      <td></td>\n",
       "    </tr>\n",
       "    <tr>\n",
       "      <th>8</th>\n",
       "      <td></td>\n",
       "      <td></td>\n",
       "      <td></td>\n",
       "      <td></td>\n",
       "    </tr>\n",
       "    <tr>\n",
       "      <th>9</th>\n",
       "      <td></td>\n",
       "      <td></td>\n",
       "      <td></td>\n",
       "      <td></td>\n",
       "    </tr>\n",
       "    <tr>\n",
       "      <th>10</th>\n",
       "      <td></td>\n",
       "      <td></td>\n",
       "      <td></td>\n",
       "      <td></td>\n",
       "    </tr>\n",
       "    <tr>\n",
       "      <th>11</th>\n",
       "      <td></td>\n",
       "      <td></td>\n",
       "      <td></td>\n",
       "      <td></td>\n",
       "    </tr>\n",
       "    <tr>\n",
       "      <th>12</th>\n",
       "      <td></td>\n",
       "      <td></td>\n",
       "      <td></td>\n",
       "      <td></td>\n",
       "    </tr>\n",
       "    <tr>\n",
       "      <th>13</th>\n",
       "      <td></td>\n",
       "      <td></td>\n",
       "      <td></td>\n",
       "      <td></td>\n",
       "    </tr>\n",
       "    <tr>\n",
       "      <th>14</th>\n",
       "      <td></td>\n",
       "      <td></td>\n",
       "      <td></td>\n",
       "      <td></td>\n",
       "    </tr>\n",
       "    <tr>\n",
       "      <th>15</th>\n",
       "      <td></td>\n",
       "      <td></td>\n",
       "      <td></td>\n",
       "      <td></td>\n",
       "    </tr>\n",
       "    <tr>\n",
       "      <th>16</th>\n",
       "      <td></td>\n",
       "      <td></td>\n",
       "      <td></td>\n",
       "      <td></td>\n",
       "    </tr>\n",
       "    <tr>\n",
       "      <th>17</th>\n",
       "      <td></td>\n",
       "      <td></td>\n",
       "      <td></td>\n",
       "      <td></td>\n",
       "    </tr>\n",
       "    <tr>\n",
       "      <th>18</th>\n",
       "      <td></td>\n",
       "      <td></td>\n",
       "      <td></td>\n",
       "      <td></td>\n",
       "    </tr>\n",
       "    <tr>\n",
       "      <th>19</th>\n",
       "      <td></td>\n",
       "      <td></td>\n",
       "      <td></td>\n",
       "      <td></td>\n",
       "    </tr>\n",
       "    <tr>\n",
       "      <th>20</th>\n",
       "      <td></td>\n",
       "      <td></td>\n",
       "      <td></td>\n",
       "      <td></td>\n",
       "    </tr>\n",
       "    <tr>\n",
       "      <th>21</th>\n",
       "      <td></td>\n",
       "      <td></td>\n",
       "      <td></td>\n",
       "      <td></td>\n",
       "    </tr>\n",
       "    <tr>\n",
       "      <th>22</th>\n",
       "      <td></td>\n",
       "      <td></td>\n",
       "      <td></td>\n",
       "      <td></td>\n",
       "    </tr>\n",
       "    <tr>\n",
       "      <th>23</th>\n",
       "      <td></td>\n",
       "      <td></td>\n",
       "      <td></td>\n",
       "      <td></td>\n",
       "    </tr>\n",
       "    <tr>\n",
       "      <th>24</th>\n",
       "      <td></td>\n",
       "      <td></td>\n",
       "      <td></td>\n",
       "      <td></td>\n",
       "    </tr>\n",
       "    <tr>\n",
       "      <th>25</th>\n",
       "      <td></td>\n",
       "      <td></td>\n",
       "      <td></td>\n",
       "      <td></td>\n",
       "    </tr>\n",
       "    <tr>\n",
       "      <th>26</th>\n",
       "      <td></td>\n",
       "      <td></td>\n",
       "      <td></td>\n",
       "      <td></td>\n",
       "    </tr>\n",
       "    <tr>\n",
       "      <th>27</th>\n",
       "      <td></td>\n",
       "      <td></td>\n",
       "      <td></td>\n",
       "      <td></td>\n",
       "    </tr>\n",
       "  </tbody>\n",
       "</table>\n",
       "</div>"
      ],
      "text/plain": [
       "                               Match_title   Place        Date         Time\n",
       "0   ICC WORLD TEST CHAMPIONSHIP FINAL 2023  London  7 JUN 2023  3:30 PM IST\n",
       "1                                                                          \n",
       "2                                                                          \n",
       "3                                                                          \n",
       "4                                                                          \n",
       "5                                                                          \n",
       "6                                                                          \n",
       "7                                                                          \n",
       "8                                                                          \n",
       "9                                                                          \n",
       "10                                                                         \n",
       "11                                                                         \n",
       "12                                                                         \n",
       "13                                                                         \n",
       "14                                                                         \n",
       "15                                                                         \n",
       "16                                                                         \n",
       "17                                                                         \n",
       "18                                                                         \n",
       "19                                                                         \n",
       "20                                                                         \n",
       "21                                                                         \n",
       "22                                                                         \n",
       "23                                                                         \n",
       "24                                                                         \n",
       "25                                                                         \n",
       "26                                                                         \n",
       "27                                                                         "
      ]
     },
     "execution_count": 46,
     "metadata": {},
     "output_type": "execute_result"
    }
   ],
   "source": [
    "data=pd.DataFrame({\"Match_title\":Match_title,\"Place\":Place,\"Date\":Date,\"Time\":Time})\n",
    "data"
   ]
  },
  {
   "cell_type": "code",
   "execution_count": 47,
   "id": "24a87328",
   "metadata": {},
   "outputs": [],
   "source": [
    "driver.close()"
   ]
  },
  {
   "cell_type": "code",
   "execution_count": 48,
   "id": "8d858acd",
   "metadata": {},
   "outputs": [
    {
     "data": {
      "text/plain": [
       "30"
      ]
     },
     "execution_count": 48,
     "metadata": {},
     "output_type": "execute_result"
    }
   ],
   "source": [
    "Name=Name[0:41]\n",
    "len(Name)"
   ]
  },
  {
   "cell_type": "markdown",
   "id": "357c12a2",
   "metadata": {},
   "source": [
    "# 3. Scrape the details of State-wise GDP of India from statisticstime.com. Url = http://statisticstimes.com/\n",
    "\n",
    "## You have to find following details:\n",
    "\n",
    "A) Rank\n",
    "\n",
    "B) State\n",
    "\n",
    "C) GSDP(18-19)- at current prices\n",
    "\n",
    "D) GSDP(19-20)- at current prices\n",
    "\n",
    "E) Share(18-19)\n",
    "\n",
    "F) GDP($ billion)\n",
    "\n",
    "Note: - From statisticstimes home page you have to reach to economy page through code."
   ]
  },
  {
   "cell_type": "code",
   "execution_count": 70,
   "id": "71bbd2bb",
   "metadata": {},
   "outputs": [
    {
     "data": {
      "text/plain": [
       "<selenium.webdriver.chrome.webdriver.WebDriver (session=\"604ab77f9dde5cc3689a7f3de1d56354\")>"
      ]
     },
     "execution_count": 70,
     "metadata": {},
     "output_type": "execute_result"
    }
   ],
   "source": [
    "#First Connect to web driver \n",
    "\n",
    "driver = webdriver.Chrome(r\"C:\\Users\\ehsan\\anaconda3\\Chrome.exe\")\n",
    "driver"
   ]
  },
  {
   "cell_type": "code",
   "execution_count": 71,
   "id": "7f65ad9a",
   "metadata": {},
   "outputs": [],
   "source": [
    "url=\" http://statisticstimes.com/\" # Here i am assigning the link in url name variable \n",
    "driver.get(url)"
   ]
  },
  {
   "cell_type": "code",
   "execution_count": 75,
   "id": "47f8ba58",
   "metadata": {},
   "outputs": [],
   "source": [
    "driver.find_element(By.XPATH,'//*[@id=\"top\"]/div[2]/div[2]/button').click()\n",
    "driver.find_element(By.XPATH,'//*[@id=\"top\"]/div[2]/div[2]/div/a[3]').click()"
   ]
  },
  {
   "cell_type": "code",
   "execution_count": 76,
   "id": "523558bf",
   "metadata": {},
   "outputs": [],
   "source": [
    "#get the url of page containing GDP of indian states\n",
    "sta_GDP = driver.find_element(By.XPATH,'/html/body/div[2]/div[2]/div[2]/ul/li[1]/a')\n",
    "GDP_url = sta_GDP.get_attribute(\"href\")\n",
    "\n",
    "driver.get(GDP_url)\n",
    "time.sleep(6)"
   ]
  },
  {
   "cell_type": "code",
   "execution_count": 77,
   "id": "d1ab01d7",
   "metadata": {},
   "outputs": [],
   "source": [
    "Rank=[]\n",
    "try:\n",
    "    for i in driver.find_elements(By.XPATH,'//div[@id=\"table_id_wrapper\"]//tbody//tr//td[1]'):\n",
    "        Rank.append(i.text)\n",
    "except NoSuchElementException:\n",
    "    Rank.append('-')"
   ]
  },
  {
   "cell_type": "code",
   "execution_count": 78,
   "id": "f8c8868b",
   "metadata": {},
   "outputs": [],
   "source": [
    "State=[]\n",
    "try:\n",
    "    for i in driver.find_elements(By.XPATH,'//div[@id=\"table_id_wrapper\"]//tbody//tr//td[2]'):\n",
    "        State.append(i.text)\n",
    "except NoSuchElementException:\n",
    "    State.append('-')"
   ]
  },
  {
   "cell_type": "code",
   "execution_count": 79,
   "id": "8f462c56",
   "metadata": {},
   "outputs": [],
   "source": [
    "GDPs=[]\n",
    "try:\n",
    "    for i in driver.find_elements(By.XPATH,'//div[@id=\"table_id_wrapper\"]//tbody//tr//td[8]'):\n",
    "        GDPs.append(i.text)\n",
    "except NoSuchElementException:\n",
    "    GDPs.append('-')"
   ]
  },
  {
   "cell_type": "code",
   "execution_count": 80,
   "id": "0ebf61a8",
   "metadata": {},
   "outputs": [],
   "source": [
    "GDP=[]\n",
    "try:\n",
    "    for i in driver.find_elements(By.XPATH,'//div[@id=\"table_id_wrapper\"]//tbody//tr//td[3]'):\n",
    "        GDP.append(i.text)\n",
    "except NoSuchElementException:\n",
    "    GDP.append('-')"
   ]
  },
  {
   "cell_type": "code",
   "execution_count": 81,
   "id": "19f1d1ec",
   "metadata": {},
   "outputs": [],
   "source": [
    "Share=[]\n",
    "try:\n",
    "    for i in driver.find_elements(By.XPATH,'//div[@id=\"table_id_wrapper\"]//tbody//tr//td[5]'):\n",
    "        Share.append(i.text)\n",
    "except NoSuchElementException:\n",
    "    Share.append('-')"
   ]
  },
  {
   "cell_type": "code",
   "execution_count": 82,
   "id": "bc5519a8",
   "metadata": {},
   "outputs": [],
   "source": [
    "GDPa=[]\n",
    "try:\n",
    "    for i in driver.find_elements(By.XPATH,'//div[@id=\"table_id_wrapper\"]//tbody//tr//td[6]'):\n",
    "        GDPa.append(i.text)\n",
    "except NoSuchElementException:\n",
    "    GDPa.append('-')"
   ]
  },
  {
   "cell_type": "code",
   "execution_count": 83,
   "id": "c03371c5",
   "metadata": {},
   "outputs": [],
   "source": [
    "#Lets Make DataFrame\n",
    "import pandas as pd"
   ]
  },
  {
   "cell_type": "code",
   "execution_count": 84,
   "id": "b3bf21cb",
   "metadata": {},
   "outputs": [
    {
     "data": {
      "text/html": [
       "<div>\n",
       "<style scoped>\n",
       "    .dataframe tbody tr th:only-of-type {\n",
       "        vertical-align: middle;\n",
       "    }\n",
       "\n",
       "    .dataframe tbody tr th {\n",
       "        vertical-align: top;\n",
       "    }\n",
       "\n",
       "    .dataframe thead th {\n",
       "        text-align: right;\n",
       "    }\n",
       "</style>\n",
       "<table border=\"1\" class=\"dataframe\">\n",
       "  <thead>\n",
       "    <tr style=\"text-align: right;\">\n",
       "      <th></th>\n",
       "      <th>Rank</th>\n",
       "      <th>State</th>\n",
       "      <th>GSDP(18-19)- at current prices</th>\n",
       "      <th>GSDP(19-20)- at current prices</th>\n",
       "      <th>Share</th>\n",
       "      <th>GDP($ billion)</th>\n",
       "    </tr>\n",
       "  </thead>\n",
       "  <tbody>\n",
       "    <tr>\n",
       "      <th>0</th>\n",
       "      <td>1</td>\n",
       "      <td>Maharashtra</td>\n",
       "      <td>2,039,074</td>\n",
       "      <td>-</td>\n",
       "      <td>13.94%</td>\n",
       "      <td>399.921</td>\n",
       "    </tr>\n",
       "    <tr>\n",
       "      <th>1</th>\n",
       "      <td>2</td>\n",
       "      <td>Tamil Nadu</td>\n",
       "      <td>1,215,307</td>\n",
       "      <td>1,845,853</td>\n",
       "      <td>8.63%</td>\n",
       "      <td>247.629</td>\n",
       "    </tr>\n",
       "    <tr>\n",
       "      <th>2</th>\n",
       "      <td>3</td>\n",
       "      <td>Uttar Pradesh</td>\n",
       "      <td>1,123,982</td>\n",
       "      <td>1,687,818</td>\n",
       "      <td>8.39%</td>\n",
       "      <td>240.726</td>\n",
       "    </tr>\n",
       "    <tr>\n",
       "      <th>3</th>\n",
       "      <td>4</td>\n",
       "      <td>Gujarat</td>\n",
       "      <td>1,186,379</td>\n",
       "      <td>-</td>\n",
       "      <td>7.96%</td>\n",
       "      <td>228.290</td>\n",
       "    </tr>\n",
       "    <tr>\n",
       "      <th>4</th>\n",
       "      <td>5</td>\n",
       "      <td>Karnataka</td>\n",
       "      <td>1,091,077</td>\n",
       "      <td>1,631,977</td>\n",
       "      <td>7.91%</td>\n",
       "      <td>226.806</td>\n",
       "    </tr>\n",
       "    <tr>\n",
       "      <th>5</th>\n",
       "      <td>6</td>\n",
       "      <td>West Bengal</td>\n",
       "      <td>739,525</td>\n",
       "      <td>1,253,832</td>\n",
       "      <td>5.77%</td>\n",
       "      <td>165.556</td>\n",
       "    </tr>\n",
       "    <tr>\n",
       "      <th>6</th>\n",
       "      <td>7</td>\n",
       "      <td>Rajasthan</td>\n",
       "      <td>677,428</td>\n",
       "      <td>1,020,989</td>\n",
       "      <td>4.99%</td>\n",
       "      <td>143.179</td>\n",
       "    </tr>\n",
       "    <tr>\n",
       "      <th>7</th>\n",
       "      <td>8</td>\n",
       "      <td>Andhra Pradesh</td>\n",
       "      <td>621,301</td>\n",
       "      <td>972,782</td>\n",
       "      <td>4.57%</td>\n",
       "      <td>131.083</td>\n",
       "    </tr>\n",
       "    <tr>\n",
       "      <th>8</th>\n",
       "      <td>9</td>\n",
       "      <td>Telangana</td>\n",
       "      <td>612,828</td>\n",
       "      <td>969,604</td>\n",
       "      <td>4.56%</td>\n",
       "      <td>130.791</td>\n",
       "    </tr>\n",
       "    <tr>\n",
       "      <th>9</th>\n",
       "      <td>10</td>\n",
       "      <td>Madhya Pradesh</td>\n",
       "      <td>522,009</td>\n",
       "      <td>906,672</td>\n",
       "      <td>4.29%</td>\n",
       "      <td>122.977</td>\n",
       "    </tr>\n",
       "    <tr>\n",
       "      <th>10</th>\n",
       "      <td>11</td>\n",
       "      <td>Kerala</td>\n",
       "      <td>559,412</td>\n",
       "      <td>-</td>\n",
       "      <td>4.14%</td>\n",
       "      <td>118.733</td>\n",
       "    </tr>\n",
       "    <tr>\n",
       "      <th>11</th>\n",
       "      <td>12</td>\n",
       "      <td>Delhi</td>\n",
       "      <td>590,569</td>\n",
       "      <td>856,112</td>\n",
       "      <td>4.10%</td>\n",
       "      <td>117.703</td>\n",
       "    </tr>\n",
       "    <tr>\n",
       "      <th>12</th>\n",
       "      <td>13</td>\n",
       "      <td>Haryana</td>\n",
       "      <td>531,085</td>\n",
       "      <td>831,610</td>\n",
       "      <td>3.89%</td>\n",
       "      <td>111.519</td>\n",
       "    </tr>\n",
       "    <tr>\n",
       "      <th>13</th>\n",
       "      <td>14</td>\n",
       "      <td>Bihar</td>\n",
       "      <td>375,651</td>\n",
       "      <td>611,804</td>\n",
       "      <td>2.81%</td>\n",
       "      <td>80.562</td>\n",
       "    </tr>\n",
       "    <tr>\n",
       "      <th>14</th>\n",
       "      <td>15</td>\n",
       "      <td>Punjab</td>\n",
       "      <td>397,669</td>\n",
       "      <td>574,760</td>\n",
       "      <td>2.79%</td>\n",
       "      <td>79.957</td>\n",
       "    </tr>\n",
       "    <tr>\n",
       "      <th>15</th>\n",
       "      <td>16</td>\n",
       "      <td>Odisha</td>\n",
       "      <td>376,877</td>\n",
       "      <td>521,275</td>\n",
       "      <td>2.58%</td>\n",
       "      <td>74.098</td>\n",
       "    </tr>\n",
       "    <tr>\n",
       "      <th>16</th>\n",
       "      <td>17</td>\n",
       "      <td>Assam</td>\n",
       "      <td>234,048</td>\n",
       "      <td>-</td>\n",
       "      <td>1.67%</td>\n",
       "      <td>47.982</td>\n",
       "    </tr>\n",
       "    <tr>\n",
       "      <th>17</th>\n",
       "      <td>18</td>\n",
       "      <td>Chhattisgarh</td>\n",
       "      <td>231,182</td>\n",
       "      <td>329,180</td>\n",
       "      <td>1.61%</td>\n",
       "      <td>46.187</td>\n",
       "    </tr>\n",
       "    <tr>\n",
       "      <th>18</th>\n",
       "      <td>19</td>\n",
       "      <td>Jharkhand</td>\n",
       "      <td>224,986</td>\n",
       "      <td>328,598</td>\n",
       "      <td>1.57%</td>\n",
       "      <td>45.145</td>\n",
       "    </tr>\n",
       "    <tr>\n",
       "      <th>19</th>\n",
       "      <td>20</td>\n",
       "      <td>Uttarakhand</td>\n",
       "      <td>193,273</td>\n",
       "      <td>-</td>\n",
       "      <td>1.30%</td>\n",
       "      <td>37.351</td>\n",
       "    </tr>\n",
       "    <tr>\n",
       "      <th>20</th>\n",
       "      <td>21</td>\n",
       "      <td>Jammu &amp; Kashmir</td>\n",
       "      <td>112,755</td>\n",
       "      <td>-</td>\n",
       "      <td>0.83%</td>\n",
       "      <td>23.690</td>\n",
       "    </tr>\n",
       "    <tr>\n",
       "      <th>21</th>\n",
       "      <td>22</td>\n",
       "      <td>Himachal Pradesh</td>\n",
       "      <td>117,851</td>\n",
       "      <td>165,472</td>\n",
       "      <td>0.81%</td>\n",
       "      <td>23.369</td>\n",
       "    </tr>\n",
       "    <tr>\n",
       "      <th>22</th>\n",
       "      <td>23</td>\n",
       "      <td>Goa</td>\n",
       "      <td>57,787</td>\n",
       "      <td>80,449</td>\n",
       "      <td>0.39%</td>\n",
       "      <td>11.115</td>\n",
       "    </tr>\n",
       "    <tr>\n",
       "      <th>23</th>\n",
       "      <td>24</td>\n",
       "      <td>Tripura</td>\n",
       "      <td>36,963</td>\n",
       "      <td>55,984</td>\n",
       "      <td>0.26%</td>\n",
       "      <td>7.571</td>\n",
       "    </tr>\n",
       "    <tr>\n",
       "      <th>24</th>\n",
       "      <td>25</td>\n",
       "      <td>Chandigarh</td>\n",
       "      <td>31,192</td>\n",
       "      <td>-</td>\n",
       "      <td>0.22%</td>\n",
       "      <td>6.397</td>\n",
       "    </tr>\n",
       "    <tr>\n",
       "      <th>25</th>\n",
       "      <td>26</td>\n",
       "      <td>Puducherry</td>\n",
       "      <td>23,013</td>\n",
       "      <td>38,253</td>\n",
       "      <td>0.18%</td>\n",
       "      <td>5.230</td>\n",
       "    </tr>\n",
       "    <tr>\n",
       "      <th>26</th>\n",
       "      <td>27</td>\n",
       "      <td>Meghalaya</td>\n",
       "      <td>24,682</td>\n",
       "      <td>36,572</td>\n",
       "      <td>0.18%</td>\n",
       "      <td>5.086</td>\n",
       "    </tr>\n",
       "    <tr>\n",
       "      <th>27</th>\n",
       "      <td>28</td>\n",
       "      <td>Sikkim</td>\n",
       "      <td>18,722</td>\n",
       "      <td>32,496</td>\n",
       "      <td>0.15%</td>\n",
       "      <td>4.363</td>\n",
       "    </tr>\n",
       "    <tr>\n",
       "      <th>28</th>\n",
       "      <td>29</td>\n",
       "      <td>Manipur</td>\n",
       "      <td>19,300</td>\n",
       "      <td>31,790</td>\n",
       "      <td>0.15%</td>\n",
       "      <td>4.233</td>\n",
       "    </tr>\n",
       "    <tr>\n",
       "      <th>29</th>\n",
       "      <td>30</td>\n",
       "      <td>Nagaland</td>\n",
       "      <td>17,647</td>\n",
       "      <td>-</td>\n",
       "      <td>0.14%</td>\n",
       "      <td>4.144</td>\n",
       "    </tr>\n",
       "    <tr>\n",
       "      <th>30</th>\n",
       "      <td>31</td>\n",
       "      <td>Arunachal Pradesh</td>\n",
       "      <td>16,676</td>\n",
       "      <td>-</td>\n",
       "      <td>0.13%</td>\n",
       "      <td>3.737</td>\n",
       "    </tr>\n",
       "    <tr>\n",
       "      <th>31</th>\n",
       "      <td>32</td>\n",
       "      <td>Mizoram</td>\n",
       "      <td>16,478</td>\n",
       "      <td>26,503</td>\n",
       "      <td>0.12%</td>\n",
       "      <td>3.385</td>\n",
       "    </tr>\n",
       "    <tr>\n",
       "      <th>32</th>\n",
       "      <td>33</td>\n",
       "      <td>Andaman &amp; Nicobar Islands</td>\n",
       "      <td>-</td>\n",
       "      <td>-</td>\n",
       "      <td>-</td>\n",
       "      <td>-</td>\n",
       "    </tr>\n",
       "  </tbody>\n",
       "</table>\n",
       "</div>"
      ],
      "text/plain": [
       "   Rank                      State GSDP(18-19)- at current prices  \\\n",
       "0     1                Maharashtra                      2,039,074   \n",
       "1     2                 Tamil Nadu                      1,215,307   \n",
       "2     3              Uttar Pradesh                      1,123,982   \n",
       "3     4                    Gujarat                      1,186,379   \n",
       "4     5                  Karnataka                      1,091,077   \n",
       "5     6                West Bengal                        739,525   \n",
       "6     7                  Rajasthan                        677,428   \n",
       "7     8             Andhra Pradesh                        621,301   \n",
       "8     9                  Telangana                        612,828   \n",
       "9    10             Madhya Pradesh                        522,009   \n",
       "10   11                     Kerala                        559,412   \n",
       "11   12                      Delhi                        590,569   \n",
       "12   13                    Haryana                        531,085   \n",
       "13   14                      Bihar                        375,651   \n",
       "14   15                     Punjab                        397,669   \n",
       "15   16                     Odisha                        376,877   \n",
       "16   17                      Assam                        234,048   \n",
       "17   18               Chhattisgarh                        231,182   \n",
       "18   19                  Jharkhand                        224,986   \n",
       "19   20                Uttarakhand                        193,273   \n",
       "20   21            Jammu & Kashmir                        112,755   \n",
       "21   22           Himachal Pradesh                        117,851   \n",
       "22   23                        Goa                         57,787   \n",
       "23   24                    Tripura                         36,963   \n",
       "24   25                 Chandigarh                         31,192   \n",
       "25   26                 Puducherry                         23,013   \n",
       "26   27                  Meghalaya                         24,682   \n",
       "27   28                     Sikkim                         18,722   \n",
       "28   29                    Manipur                         19,300   \n",
       "29   30                   Nagaland                         17,647   \n",
       "30   31          Arunachal Pradesh                         16,676   \n",
       "31   32                    Mizoram                         16,478   \n",
       "32   33  Andaman & Nicobar Islands                              -   \n",
       "\n",
       "   GSDP(19-20)- at current prices   Share GDP($ billion)  \n",
       "0                               -  13.94%        399.921  \n",
       "1                       1,845,853   8.63%        247.629  \n",
       "2                       1,687,818   8.39%        240.726  \n",
       "3                               -   7.96%        228.290  \n",
       "4                       1,631,977   7.91%        226.806  \n",
       "5                       1,253,832   5.77%        165.556  \n",
       "6                       1,020,989   4.99%        143.179  \n",
       "7                         972,782   4.57%        131.083  \n",
       "8                         969,604   4.56%        130.791  \n",
       "9                         906,672   4.29%        122.977  \n",
       "10                              -   4.14%        118.733  \n",
       "11                        856,112   4.10%        117.703  \n",
       "12                        831,610   3.89%        111.519  \n",
       "13                        611,804   2.81%         80.562  \n",
       "14                        574,760   2.79%         79.957  \n",
       "15                        521,275   2.58%         74.098  \n",
       "16                              -   1.67%         47.982  \n",
       "17                        329,180   1.61%         46.187  \n",
       "18                        328,598   1.57%         45.145  \n",
       "19                              -   1.30%         37.351  \n",
       "20                              -   0.83%         23.690  \n",
       "21                        165,472   0.81%         23.369  \n",
       "22                         80,449   0.39%         11.115  \n",
       "23                         55,984   0.26%          7.571  \n",
       "24                              -   0.22%          6.397  \n",
       "25                         38,253   0.18%          5.230  \n",
       "26                         36,572   0.18%          5.086  \n",
       "27                         32,496   0.15%          4.363  \n",
       "28                         31,790   0.15%          4.233  \n",
       "29                              -   0.14%          4.144  \n",
       "30                              -   0.13%          3.737  \n",
       "31                         26,503   0.12%          3.385  \n",
       "32                              -       -              -  "
      ]
     },
     "execution_count": 84,
     "metadata": {},
     "output_type": "execute_result"
    }
   ],
   "source": [
    "data=pd.DataFrame({'Rank':Rank,\"State\":State,\"GSDP(18-19)- at current prices\":GDPs,\"GSDP(19-20)- at current prices\":GDP,\"Share\":Share,\"GDP($ billion)\":GDPa})\n",
    "data"
   ]
  },
  {
   "cell_type": "code",
   "execution_count": 85,
   "id": "f9d026d6",
   "metadata": {},
   "outputs": [],
   "source": [
    "driver.close()"
   ]
  },
  {
   "cell_type": "markdown",
   "id": "7bcb31e5",
   "metadata": {},
   "source": [
    "# 4. Scrape the details of trending repositories on Github.com. Url = https://github.com/\n",
    "\n",
    "## You have to find the following details:\n",
    "\n",
    "A) Repository title\n",
    "\n",
    "B) Repository description\n",
    "\n",
    "C) Contributors count\n",
    "\n",
    "D) Language used"
   ]
  },
  {
   "cell_type": "code",
   "execution_count": 283,
   "id": "8a17f6bc",
   "metadata": {},
   "outputs": [
    {
     "data": {
      "text/plain": [
       "<selenium.webdriver.edge.webdriver.WebDriver (session=\"1eff026fa7c431067474fe687c235809\")>"
      ]
     },
     "execution_count": 283,
     "metadata": {},
     "output_type": "execute_result"
    }
   ],
   "source": [
    "#First Connect to web driver \n",
    "\n",
    "driver = webdriver.Edge(r\"D:\\edgedriver_win64\\msedgedriver.exe\")\n",
    "driver"
   ]
  },
  {
   "cell_type": "code",
   "execution_count": 284,
   "id": "ffec7f0c",
   "metadata": {},
   "outputs": [],
   "source": [
    "url=\" https://github.com/\" # Here i am assigning the link in url name variable \n",
    "driver.get(url)"
   ]
  },
  {
   "cell_type": "code",
   "execution_count": 89,
   "id": "1d364a6a",
   "metadata": {},
   "outputs": [],
   "source": [
    "driver.find_element(By.XPATH,\"/html/body/div[1]/div[1]/header/div/div[2]/div/nav/ul/li[3]/div/div[3]/ul/li[2]/a\").click()"
   ]
  },
  {
   "cell_type": "code",
   "execution_count": null,
   "id": "e02f0d9a",
   "metadata": {},
   "outputs": [],
   "source": [
    "driver.find_element(By.XPATH,\"/html/body/div[1]/div[1]/header/div/div[2]/div/nav/ul/li[3]/div/ul[3]/li[3]/a\").click()"
   ]
  },
  {
   "cell_type": "code",
   "execution_count": 92,
   "id": "f0a9c805",
   "metadata": {},
   "outputs": [],
   "source": [
    "Repository_title=[]\n",
    "try:\n",
    "    for i in driver.find_elements(By.XPATH,'//span[@class=\"text-normal\"]'):\n",
    "        Repository_title.append(i.text)\n",
    "except NoSuchElementException:\n",
    "    Repository_title.append('-')"
   ]
  },
  {
   "cell_type": "code",
   "execution_count": 93,
   "id": "a302cc5a",
   "metadata": {},
   "outputs": [],
   "source": [
    "Repository_description=[]\n",
    "try:\n",
    "    for i in driver.find_elements(By.XPATH,'//p[@class=\"col-9 color-fg-muted my-1 pr-4\"]'):\n",
    "        Repository_description.append(i.text)\n",
    "except NoSuchElementException:\n",
    "    Repository_description.append('-')"
   ]
  },
  {
   "cell_type": "code",
   "execution_count": 94,
   "id": "a9a5f0d9",
   "metadata": {},
   "outputs": [],
   "source": [
    "Contributors_count=[]\n",
    "try:\n",
    "    for i in driver.find_elements(By.XPATH,\"//a[@class='Link--muted d-inline-block mr-3'][1]\"):\n",
    "        Contributors_count.append(i.text)\n",
    "except NoSuchElementException:\n",
    "    Contributors_count.append('-')"
   ]
  },
  {
   "cell_type": "code",
   "execution_count": 95,
   "id": "ef95a451",
   "metadata": {},
   "outputs": [],
   "source": [
    "Language_used=[]\n",
    "try:\n",
    "    for i in driver.find_elements(By.XPATH,\"//span[@class='d-inline-block ml-0 mr-3']\"):\n",
    "        Language_used.append(i.text)\n",
    "except NoSuchElementException:\n",
    "    Language_used.append('-')\n",
    "    time.sleep(5)"
   ]
  },
  {
   "cell_type": "code",
   "execution_count": 96,
   "id": "c470e89f",
   "metadata": {},
   "outputs": [],
   "source": [
    "#Lets Make DataFrame\n",
    "import pandas as pd"
   ]
  },
  {
   "cell_type": "code",
   "execution_count": null,
   "id": "e6cf2e6b",
   "metadata": {},
   "outputs": [],
   "source": [
    "data=pd.DataFrame({\"Repository_title\":Repository_title,\"Repository_description\":Repository_description,\"Contributors_count\":Contributors_count,\"Language_used\":Language_used})\n",
    "data"
   ]
  },
  {
   "cell_type": "markdown",
   "id": "34c95c5f",
   "metadata": {},
   "source": [
    "# 5. Scrape the details of top 100 songs on billiboard.com. Url = https:/www.billboard.com/\n",
    "\n",
    "## You have to find the following details:\n",
    "\n",
    "A) Song name\n",
    "\n",
    "B) Artist name\n",
    "\n",
    "C) Last week rank\n",
    "\n",
    "D) Peak rank\n",
    "\n",
    "E) Weeks on board\n",
    "\n",
    "Note: - From the home page you have to click on the charts option then hot 100-page link through code."
   ]
  },
  {
   "cell_type": "code",
   "execution_count": 133,
   "id": "72e58de9",
   "metadata": {},
   "outputs": [
    {
     "data": {
      "text/plain": [
       "<selenium.webdriver.chrome.webdriver.WebDriver (session=\"e4e9ca3acf90a375b7d45ac1ef8c34a6\")>"
      ]
     },
     "execution_count": 133,
     "metadata": {},
     "output_type": "execute_result"
    }
   ],
   "source": [
    "#First Connect to web driver \n",
    "\n",
    "driver = webdriver.Chrome(r\"C:\\Users\\ehsan\\anaconda3\\Chrome.exe\")\n",
    "driver"
   ]
  },
  {
   "cell_type": "code",
   "execution_count": 134,
   "id": "fb1ffac1",
   "metadata": {},
   "outputs": [],
   "source": [
    "url=\"https:/www.billboard.com/\" # Here i am assigning the link in url name variable \n",
    "driver.get(url)"
   ]
  },
  {
   "cell_type": "code",
   "execution_count": 135,
   "id": "6f889247",
   "metadata": {},
   "outputs": [],
   "source": [
    "driver.find_element(By.XPATH,\"//div[@class='u-overflow-hidden lrv-u-background-color-grey-lightest lrv-u-padding-t-150 u-padding-t-00@mobile-max u-padding-b-425@desktop-xl u-padding-b-325@tablet u-padding-b-250']\").click()"
   ]
  },
  {
   "cell_type": "code",
   "execution_count": 138,
   "id": "611e7496",
   "metadata": {},
   "outputs": [],
   "source": [
    "driver.find_element(By.XPATH,'//*[@id=\"post-1235333469\"]/article/div[2]/div[1]/p[1]/a[2]').click()"
   ]
  },
  {
   "cell_type": "code",
   "execution_count": 139,
   "id": "cfa55bf5",
   "metadata": {},
   "outputs": [],
   "source": [
    "Song_name=[]\n",
    "try:\n",
    "    for i in driver.find_elements(By.XPATH,'//li[@class=\"lrv-u-width-100p\"]/ul/li/h3'):\n",
    "        Song_name.append(i.text)\n",
    "except NoSuchElementException:\n",
    "    Song_name.append('-')\n",
    "    time.sleep(5)"
   ]
  },
  {
   "cell_type": "code",
   "execution_count": 140,
   "id": "39d77cbf",
   "metadata": {},
   "outputs": [
    {
     "data": {
      "text/plain": [
       "200"
      ]
     },
     "execution_count": 140,
     "metadata": {},
     "output_type": "execute_result"
    }
   ],
   "source": [
    "len(Song_name)"
   ]
  },
  {
   "cell_type": "code",
   "execution_count": 141,
   "id": "c17662cf",
   "metadata": {},
   "outputs": [],
   "source": [
    "Artist_name=[]\n",
    "try:\n",
    "    for i in driver.find_elements(By.XPATH,'//li[@class=\"lrv-u-width-100p\"]/ul/li/span'):\n",
    "        Artist_name.append(i.text)\n",
    "except NoSuchElementException:\n",
    "    Artist_name.append('-')\n",
    "    time.sleep(5)"
   ]
  },
  {
   "cell_type": "code",
   "execution_count": 142,
   "id": "0bb917e4",
   "metadata": {},
   "outputs": [
    {
     "data": {
      "text/plain": [
       "200"
      ]
     },
     "execution_count": 142,
     "metadata": {},
     "output_type": "execute_result"
    }
   ],
   "source": [
    "Artist_name=Artist_name[0:-1:4]\n",
    "len(Artist_name)\n",
    "200"
   ]
  },
  {
   "cell_type": "code",
   "execution_count": 143,
   "id": "bc276263",
   "metadata": {},
   "outputs": [],
   "source": [
    "Peak_rank=[]\n",
    "try:\n",
    "    for i in driver.find_elements(By.XPATH,'//span[@class=\"c-label  a-font-primary-bold-l u-font-size-32@tablet u-letter-spacing-0080@tablet\"]'):\n",
    "        Peak_rank.append(i.text)\n",
    "except NoSuchElementException:\n",
    "    Peak_rank.append('-')\n",
    "    time.sleep(5)  "
   ]
  },
  {
   "cell_type": "code",
   "execution_count": 144,
   "id": "5076ed0d",
   "metadata": {},
   "outputs": [
    {
     "data": {
      "text/plain": [
       "200"
      ]
     },
     "execution_count": 144,
     "metadata": {},
     "output_type": "execute_result"
    }
   ],
   "source": [
    "len(Peak_rank)"
   ]
  },
  {
   "cell_type": "code",
   "execution_count": 145,
   "id": "11c68316",
   "metadata": {},
   "outputs": [],
   "source": [
    "Last_week_rank=[]\n",
    "try:\n",
    "    for i in driver.find_elements(By.XPATH,'//li[@class=\"o-chart-results-list__item // a-chart-color u-width-72 u-width-55@mobile-max u-width-55@tablet-only lrv-u-flex lrv-u-flex-shrink-0 lrv-u-align-items-center lrv-u-justify-content-center lrv-u-border-b-1 u-border-b-0@mobile-max lrv-u-border-color-grey-light u-background-color-white-064@mobile-max u-hidden@mobile-max\"]/span'):\n",
    "        Last_week_rank.append(i.text)\n",
    "except NoSuchElementException:\n",
    "    Last_week_rank.append('-')\n",
    "    time.sleep(5)"
   ]
  },
  {
   "cell_type": "code",
   "execution_count": 146,
   "id": "19b3f274",
   "metadata": {},
   "outputs": [
    {
     "data": {
      "text/plain": [
       "200"
      ]
     },
     "execution_count": 146,
     "metadata": {},
     "output_type": "execute_result"
    }
   ],
   "source": [
    "Last_week_rank=Last_week_rank[0:-1:2]\n",
    "len(Last_week_rank)"
   ]
  },
  {
   "cell_type": "code",
   "execution_count": 147,
   "id": "300c27e2",
   "metadata": {},
   "outputs": [],
   "source": [
    "Weeks_on_board=[]\n",
    "try:\n",
    "    for i in driver.find_elements(By.XPATH,'//li[@class=\"o-chart-results-list__item // a-chart-color u-width-72 u-width-55@mobile-max u-width-55@tablet-only lrv-u-flex lrv-u-flex-shrink-0 lrv-u-align-items-center lrv-u-justify-content-center lrv-u-border-b-1 u-border-b-0@mobile-max lrv-u-border-color-grey-light u-background-color-white-064@mobile-max u-hidden@mobile-max\"]/span'):\n",
    "        Weeks_on_board.append(i.text)\n",
    "except NoSuchElementException:\n",
    "    Weeks_on_board.append('-')\n",
    "    time.sleep(5)"
   ]
  },
  {
   "cell_type": "code",
   "execution_count": 148,
   "id": "7ea93fb4",
   "metadata": {},
   "outputs": [
    {
     "data": {
      "text/plain": [
       "200"
      ]
     },
     "execution_count": 148,
     "metadata": {},
     "output_type": "execute_result"
    }
   ],
   "source": [
    "Weeks_on_board=Weeks_on_board[1:400:2]\n",
    "len(Weeks_on_board)"
   ]
  },
  {
   "cell_type": "code",
   "execution_count": 149,
   "id": "451018c8",
   "metadata": {},
   "outputs": [
    {
     "data": {
      "text/html": [
       "<div>\n",
       "<style scoped>\n",
       "    .dataframe tbody tr th:only-of-type {\n",
       "        vertical-align: middle;\n",
       "    }\n",
       "\n",
       "    .dataframe tbody tr th {\n",
       "        vertical-align: top;\n",
       "    }\n",
       "\n",
       "    .dataframe thead th {\n",
       "        text-align: right;\n",
       "    }\n",
       "</style>\n",
       "<table border=\"1\" class=\"dataframe\">\n",
       "  <thead>\n",
       "    <tr style=\"text-align: right;\">\n",
       "      <th></th>\n",
       "      <th>Song_name</th>\n",
       "      <th>Artist_name</th>\n",
       "      <th>Peak_rank</th>\n",
       "      <th>Last_week_rank</th>\n",
       "      <th>Weeks_on_board</th>\n",
       "    </tr>\n",
       "  </thead>\n",
       "  <tbody>\n",
       "    <tr>\n",
       "      <th>0</th>\n",
       "      <td>One Thing At A Time</td>\n",
       "      <td>Morgan Wallen</td>\n",
       "      <td>1</td>\n",
       "      <td>1</td>\n",
       "      <td>10</td>\n",
       "    </tr>\n",
       "    <tr>\n",
       "      <th>1</th>\n",
       "      <td>-</td>\n",
       "      <td>Ed Sheeran</td>\n",
       "      <td>2</td>\n",
       "      <td>-</td>\n",
       "      <td>1</td>\n",
       "    </tr>\n",
       "    <tr>\n",
       "      <th>2</th>\n",
       "      <td>Midnights</td>\n",
       "      <td>Taylor Swift</td>\n",
       "      <td>3</td>\n",
       "      <td>3</td>\n",
       "      <td>29</td>\n",
       "    </tr>\n",
       "    <tr>\n",
       "      <th>3</th>\n",
       "      <td>SOS</td>\n",
       "      <td>SZA</td>\n",
       "      <td>4</td>\n",
       "      <td>4</td>\n",
       "      <td>22</td>\n",
       "    </tr>\n",
       "    <tr>\n",
       "      <th>4</th>\n",
       "      <td>Dangerous: The Double Album</td>\n",
       "      <td>Morgan Wallen</td>\n",
       "      <td>5</td>\n",
       "      <td>5</td>\n",
       "      <td>122</td>\n",
       "    </tr>\n",
       "    <tr>\n",
       "      <th>...</th>\n",
       "      <td>...</td>\n",
       "      <td>...</td>\n",
       "      <td>...</td>\n",
       "      <td>...</td>\n",
       "      <td>...</td>\n",
       "    </tr>\n",
       "    <tr>\n",
       "      <th>195</th>\n",
       "      <td>Sublime</td>\n",
       "      <td>Sublime</td>\n",
       "      <td>196</td>\n",
       "      <td>-</td>\n",
       "      <td>194</td>\n",
       "    </tr>\n",
       "    <tr>\n",
       "      <th>196</th>\n",
       "      <td>Fuck The World</td>\n",
       "      <td>Brent Faiyaz</td>\n",
       "      <td>197</td>\n",
       "      <td>-</td>\n",
       "      <td>23</td>\n",
       "    </tr>\n",
       "    <tr>\n",
       "      <th>197</th>\n",
       "      <td>Stick Season</td>\n",
       "      <td>Noah Kahan</td>\n",
       "      <td>198</td>\n",
       "      <td>-</td>\n",
       "      <td>24</td>\n",
       "    </tr>\n",
       "    <tr>\n",
       "      <th>198</th>\n",
       "      <td>Die Lit</td>\n",
       "      <td>Playboi Carti</td>\n",
       "      <td>199</td>\n",
       "      <td>-</td>\n",
       "      <td>158</td>\n",
       "    </tr>\n",
       "    <tr>\n",
       "      <th>199</th>\n",
       "      <td>Taylor Swift</td>\n",
       "      <td>Taylor Swift</td>\n",
       "      <td>200</td>\n",
       "      <td>-</td>\n",
       "      <td>276</td>\n",
       "    </tr>\n",
       "  </tbody>\n",
       "</table>\n",
       "<p>200 rows × 5 columns</p>\n",
       "</div>"
      ],
      "text/plain": [
       "                       Song_name    Artist_name Peak_rank Last_week_rank  \\\n",
       "0            One Thing At A Time  Morgan Wallen         1              1   \n",
       "1                              -     Ed Sheeran         2              -   \n",
       "2                      Midnights   Taylor Swift         3              3   \n",
       "3                            SOS            SZA         4              4   \n",
       "4    Dangerous: The Double Album  Morgan Wallen         5              5   \n",
       "..                           ...            ...       ...            ...   \n",
       "195                      Sublime        Sublime       196              -   \n",
       "196               Fuck The World   Brent Faiyaz       197              -   \n",
       "197                 Stick Season     Noah Kahan       198              -   \n",
       "198                      Die Lit  Playboi Carti       199              -   \n",
       "199                 Taylor Swift   Taylor Swift       200              -   \n",
       "\n",
       "    Weeks_on_board  \n",
       "0               10  \n",
       "1                1  \n",
       "2               29  \n",
       "3               22  \n",
       "4              122  \n",
       "..             ...  \n",
       "195            194  \n",
       "196             23  \n",
       "197             24  \n",
       "198            158  \n",
       "199            276  \n",
       "\n",
       "[200 rows x 5 columns]"
      ]
     },
     "execution_count": 149,
     "metadata": {},
     "output_type": "execute_result"
    }
   ],
   "source": [
    "#Lets Make Dataframe\n",
    "import pandas as pd\n",
    "data=pd.DataFrame({\"Song_name\":Song_name,\"Artist_name\":Artist_name,\"Peak_rank\":Peak_rank,\"Last_week_rank\":Last_week_rank,\"Weeks_on_board\":Weeks_on_board})\n",
    "data"
   ]
  },
  {
   "cell_type": "code",
   "execution_count": 150,
   "id": "88eab34d",
   "metadata": {},
   "outputs": [],
   "source": [
    "driver.close()"
   ]
  },
  {
   "cell_type": "markdown",
   "id": "ff0c87be",
   "metadata": {},
   "source": [
    "# 6. Scrape the details of Highest selling novels. Url = https://www.theguardian.com/news/datablog/2012/aug/09/best-selling-books-all-time-fifty-shades-grey%02compare/\n",
    "\n",
    "## You have to find the following details:\n",
    "\n",
    "A) Book name\n",
    "\n",
    "B) Author name\n",
    "\n",
    "C) Volumes sold\n",
    "\n",
    "D) Publisher\n",
    "\n",
    "E) Genre"
   ]
  },
  {
   "cell_type": "code",
   "execution_count": 151,
   "id": "1b94fe51",
   "metadata": {},
   "outputs": [
    {
     "data": {
      "text/plain": [
       "<selenium.webdriver.chrome.webdriver.WebDriver (session=\"b55803c108d6ace71cb3231fa8df8e1a\")>"
      ]
     },
     "execution_count": 151,
     "metadata": {},
     "output_type": "execute_result"
    }
   ],
   "source": [
    "#First Connect to web driver \n",
    "\n",
    "driver = webdriver.Chrome(r\"C:\\Users\\ehsan\\anaconda3\\Chrome.exe\")\n",
    "driver"
   ]
  },
  {
   "cell_type": "code",
   "execution_count": 152,
   "id": "1280fcce",
   "metadata": {},
   "outputs": [],
   "source": [
    "url=\"https://www.theguardian.com/news/datablog/2012/aug/09/best-selling-books-all-time-fifty-shades-grey-compare \" # Here i am assigning the link in url name variable \n",
    "driver.get(url)"
   ]
  },
  {
   "cell_type": "code",
   "execution_count": 153,
   "id": "35cc698c",
   "metadata": {},
   "outputs": [],
   "source": [
    "Book_name=[]\n",
    "try:\n",
    "    for i in driver.find_elements(By.XPATH,'//table[@class=\"in-article sortable\"]//tbody//tr//td[2]'):\n",
    "        Book_name.append(i.text)\n",
    "except NoSuchElementException:\n",
    "    Book_name.append('-')\n",
    "    time.sleep(5)"
   ]
  },
  {
   "cell_type": "code",
   "execution_count": 154,
   "id": "24355fde",
   "metadata": {},
   "outputs": [
    {
     "data": {
      "text/plain": [
       "100"
      ]
     },
     "execution_count": 154,
     "metadata": {},
     "output_type": "execute_result"
    }
   ],
   "source": [
    "len(Book_name)"
   ]
  },
  {
   "cell_type": "code",
   "execution_count": 155,
   "id": "c3cc8478",
   "metadata": {},
   "outputs": [],
   "source": [
    "Author_name=[]\n",
    "try:\n",
    "    for i in driver.find_elements(By.XPATH,'//table[@class=\"in-article sortable\"]//tbody//tr//td[3]'):\n",
    "        Author_name.append(i.text)\n",
    "except NoSuchElementException:\n",
    "    Author_name.append('-')\n",
    "    time.sleep(5)"
   ]
  },
  {
   "cell_type": "code",
   "execution_count": 156,
   "id": "155b9a2d",
   "metadata": {},
   "outputs": [
    {
     "data": {
      "text/plain": [
       "100"
      ]
     },
     "execution_count": 156,
     "metadata": {},
     "output_type": "execute_result"
    }
   ],
   "source": [
    "\n",
    "len(Author_name)"
   ]
  },
  {
   "cell_type": "code",
   "execution_count": 157,
   "id": "e678cb5b",
   "metadata": {},
   "outputs": [],
   "source": [
    "Volumes_sold=[]\n",
    "try:\n",
    "    for i in driver.find_elements(By.XPATH,'//table[@class=\"in-article sortable\"]//tbody//tr//td[4]'):\n",
    "        Volumes_sold.append(i.text)\n",
    "except NoSuchElementException:\n",
    "    Volumes_sold.append('-')\n",
    "    time.sleep(5)"
   ]
  },
  {
   "cell_type": "code",
   "execution_count": 158,
   "id": "af8796b3",
   "metadata": {},
   "outputs": [
    {
     "data": {
      "text/plain": [
       "100"
      ]
     },
     "execution_count": 158,
     "metadata": {},
     "output_type": "execute_result"
    }
   ],
   "source": [
    "len(Volumes_sold)\n"
   ]
  },
  {
   "cell_type": "code",
   "execution_count": 159,
   "id": "391d823e",
   "metadata": {},
   "outputs": [],
   "source": [
    "Publisher=[]\n",
    "try:\n",
    "    for i in driver.find_elements(By.XPATH,'//table[@class=\"in-article sortable\"]//tbody//tr//td[5]'):\n",
    "        Publisher.append(i.text)\n",
    "except NoSuchElementException:\n",
    "    Publisher.append('-')\n",
    "    time.sleep(5)"
   ]
  },
  {
   "cell_type": "code",
   "execution_count": 160,
   "id": "a1ef8446",
   "metadata": {},
   "outputs": [
    {
     "data": {
      "text/plain": [
       "100"
      ]
     },
     "execution_count": 160,
     "metadata": {},
     "output_type": "execute_result"
    }
   ],
   "source": [
    "\n",
    "len(Publisher)"
   ]
  },
  {
   "cell_type": "code",
   "execution_count": 161,
   "id": "8f3df815",
   "metadata": {},
   "outputs": [],
   "source": [
    "Genre=[]\n",
    "try:\n",
    "    for i in driver.find_elements(By.XPATH,'//table[@class=\"in-article sortable\"]//tbody//tr//td[6]'):\n",
    "        Genre.append(i.text)\n",
    "except NoSuchElementException:\n",
    "    Genre.append('-')\n",
    "    time.sleep(5)"
   ]
  },
  {
   "cell_type": "code",
   "execution_count": 162,
   "id": "233e3cab",
   "metadata": {},
   "outputs": [
    {
     "data": {
      "text/html": [
       "<div>\n",
       "<style scoped>\n",
       "    .dataframe tbody tr th:only-of-type {\n",
       "        vertical-align: middle;\n",
       "    }\n",
       "\n",
       "    .dataframe tbody tr th {\n",
       "        vertical-align: top;\n",
       "    }\n",
       "\n",
       "    .dataframe thead th {\n",
       "        text-align: right;\n",
       "    }\n",
       "</style>\n",
       "<table border=\"1\" class=\"dataframe\">\n",
       "  <thead>\n",
       "    <tr style=\"text-align: right;\">\n",
       "      <th></th>\n",
       "      <th>Book_name</th>\n",
       "      <th>Author_name</th>\n",
       "      <th>Volumes_sold</th>\n",
       "      <th>Publisher</th>\n",
       "      <th>Genre</th>\n",
       "    </tr>\n",
       "  </thead>\n",
       "  <tbody>\n",
       "    <tr>\n",
       "      <th>0</th>\n",
       "      <td>Da Vinci Code,The</td>\n",
       "      <td>Brown, Dan</td>\n",
       "      <td>5,094,805</td>\n",
       "      <td>Transworld</td>\n",
       "      <td>Crime, Thriller &amp; Adventure</td>\n",
       "    </tr>\n",
       "    <tr>\n",
       "      <th>1</th>\n",
       "      <td>Harry Potter and the Deathly Hallows</td>\n",
       "      <td>Rowling, J.K.</td>\n",
       "      <td>4,475,152</td>\n",
       "      <td>Bloomsbury</td>\n",
       "      <td>Children's Fiction</td>\n",
       "    </tr>\n",
       "    <tr>\n",
       "      <th>2</th>\n",
       "      <td>Harry Potter and the Philosopher's Stone</td>\n",
       "      <td>Rowling, J.K.</td>\n",
       "      <td>4,200,654</td>\n",
       "      <td>Bloomsbury</td>\n",
       "      <td>Children's Fiction</td>\n",
       "    </tr>\n",
       "    <tr>\n",
       "      <th>3</th>\n",
       "      <td>Harry Potter and the Order of the Phoenix</td>\n",
       "      <td>Rowling, J.K.</td>\n",
       "      <td>4,179,479</td>\n",
       "      <td>Bloomsbury</td>\n",
       "      <td>Children's Fiction</td>\n",
       "    </tr>\n",
       "    <tr>\n",
       "      <th>4</th>\n",
       "      <td>Fifty Shades of Grey</td>\n",
       "      <td>James, E. L.</td>\n",
       "      <td>3,758,936</td>\n",
       "      <td>Random House</td>\n",
       "      <td>Romance &amp; Sagas</td>\n",
       "    </tr>\n",
       "    <tr>\n",
       "      <th>...</th>\n",
       "      <td>...</td>\n",
       "      <td>...</td>\n",
       "      <td>...</td>\n",
       "      <td>...</td>\n",
       "      <td>...</td>\n",
       "    </tr>\n",
       "    <tr>\n",
       "      <th>95</th>\n",
       "      <td>Ghost,The</td>\n",
       "      <td>Harris, Robert</td>\n",
       "      <td>807,311</td>\n",
       "      <td>Random House</td>\n",
       "      <td>General &amp; Literary Fiction</td>\n",
       "    </tr>\n",
       "    <tr>\n",
       "      <th>96</th>\n",
       "      <td>Happy Days with the Naked Chef</td>\n",
       "      <td>Oliver, Jamie</td>\n",
       "      <td>794,201</td>\n",
       "      <td>Penguin</td>\n",
       "      <td>Food &amp; Drink: General</td>\n",
       "    </tr>\n",
       "    <tr>\n",
       "      <th>97</th>\n",
       "      <td>Hunger Games,The:Hunger Games Trilogy</td>\n",
       "      <td>Collins, Suzanne</td>\n",
       "      <td>792,187</td>\n",
       "      <td>Scholastic Ltd.</td>\n",
       "      <td>Young Adult Fiction</td>\n",
       "    </tr>\n",
       "    <tr>\n",
       "      <th>98</th>\n",
       "      <td>Lost Boy,The:A Foster Child's Search for the L...</td>\n",
       "      <td>Pelzer, Dave</td>\n",
       "      <td>791,507</td>\n",
       "      <td>Orion</td>\n",
       "      <td>Biography: General</td>\n",
       "    </tr>\n",
       "    <tr>\n",
       "      <th>99</th>\n",
       "      <td>Jamie's Ministry of Food:Anyone Can Learn to C...</td>\n",
       "      <td>Oliver, Jamie</td>\n",
       "      <td>791,095</td>\n",
       "      <td>Penguin</td>\n",
       "      <td>Food &amp; Drink: General</td>\n",
       "    </tr>\n",
       "  </tbody>\n",
       "</table>\n",
       "<p>100 rows × 5 columns</p>\n",
       "</div>"
      ],
      "text/plain": [
       "                                            Book_name       Author_name  \\\n",
       "0                                   Da Vinci Code,The        Brown, Dan   \n",
       "1                Harry Potter and the Deathly Hallows     Rowling, J.K.   \n",
       "2            Harry Potter and the Philosopher's Stone     Rowling, J.K.   \n",
       "3           Harry Potter and the Order of the Phoenix     Rowling, J.K.   \n",
       "4                                Fifty Shades of Grey      James, E. L.   \n",
       "..                                                ...               ...   \n",
       "95                                          Ghost,The    Harris, Robert   \n",
       "96                     Happy Days with the Naked Chef     Oliver, Jamie   \n",
       "97              Hunger Games,The:Hunger Games Trilogy  Collins, Suzanne   \n",
       "98  Lost Boy,The:A Foster Child's Search for the L...      Pelzer, Dave   \n",
       "99  Jamie's Ministry of Food:Anyone Can Learn to C...     Oliver, Jamie   \n",
       "\n",
       "   Volumes_sold        Publisher                        Genre  \n",
       "0     5,094,805       Transworld  Crime, Thriller & Adventure  \n",
       "1     4,475,152       Bloomsbury           Children's Fiction  \n",
       "2     4,200,654       Bloomsbury           Children's Fiction  \n",
       "3     4,179,479       Bloomsbury           Children's Fiction  \n",
       "4     3,758,936     Random House              Romance & Sagas  \n",
       "..          ...              ...                          ...  \n",
       "95      807,311     Random House   General & Literary Fiction  \n",
       "96      794,201          Penguin        Food & Drink: General  \n",
       "97      792,187  Scholastic Ltd.          Young Adult Fiction  \n",
       "98      791,507            Orion           Biography: General  \n",
       "99      791,095          Penguin        Food & Drink: General  \n",
       "\n",
       "[100 rows x 5 columns]"
      ]
     },
     "execution_count": 162,
     "metadata": {},
     "output_type": "execute_result"
    }
   ],
   "source": [
    "#Lets make dataframe\n",
    "import pandas as pd\n",
    "data=pd.DataFrame({'Book_name':Book_name,\"Author_name\":Author_name,\"Volumes_sold\":Volumes_sold,\"Publisher\":Publisher,\"Genre\":Genre})\n",
    "data"
   ]
  },
  {
   "cell_type": "code",
   "execution_count": 163,
   "id": "738b2525",
   "metadata": {},
   "outputs": [],
   "source": [
    "driver.close()"
   ]
  },
  {
   "cell_type": "markdown",
   "id": "ac3dfcc9",
   "metadata": {},
   "source": [
    "# 7. Scrape the details most watched tv series of all time from imdb.com.\n",
    "Url = https://www.imdb.com/list/ls095964455/\n",
    "\n",
    "## You have to find the following details:\n",
    "\n",
    "A) Name\n",
    "\n",
    "B) Year span\n",
    "\n",
    "C) Genre\n",
    "\n",
    "D) Run time\n",
    "\n",
    "E) Ratings\n",
    "\n",
    "F) Vote"
   ]
  },
  {
   "cell_type": "code",
   "execution_count": 164,
   "id": "3e229ed7",
   "metadata": {},
   "outputs": [
    {
     "data": {
      "text/plain": [
       "<selenium.webdriver.chrome.webdriver.WebDriver (session=\"26cc1e0e54d89ca7f2db81e0536363f6\")>"
      ]
     },
     "execution_count": 164,
     "metadata": {},
     "output_type": "execute_result"
    }
   ],
   "source": [
    "#First Connect to web driver \n",
    "\n",
    "driver = webdriver.Chrome(r\"C:\\Users\\ehsan\\anaconda3\\Chrome.exe\")\n",
    "driver"
   ]
  },
  {
   "cell_type": "code",
   "execution_count": 165,
   "id": "0a31d853",
   "metadata": {},
   "outputs": [],
   "source": [
    "url=\"https://www.imdb.com/list/ls095964455/\" # Here i am assigning the link in url name variable \n",
    "driver.get(url)"
   ]
  },
  {
   "cell_type": "code",
   "execution_count": 166,
   "id": "bf8fb620",
   "metadata": {},
   "outputs": [],
   "source": [
    "Name=[]\n",
    "try:\n",
    "    for i in driver.find_elements(By.XPATH,\"//h3[@class='lister-item-header']//a\"):\n",
    "        Name.append(i.text)\n",
    "except NoSuchElementException:\n",
    "    Name.append('-')\n",
    "    time.sleep(5)"
   ]
  },
  {
   "cell_type": "code",
   "execution_count": 167,
   "id": "e2babbe6",
   "metadata": {},
   "outputs": [
    {
     "data": {
      "text/plain": [
       "100"
      ]
     },
     "execution_count": 167,
     "metadata": {},
     "output_type": "execute_result"
    }
   ],
   "source": [
    "\n",
    "len(Name)"
   ]
  },
  {
   "cell_type": "code",
   "execution_count": 168,
   "id": "fee383e5",
   "metadata": {},
   "outputs": [],
   "source": [
    "Year_span=[]\n",
    "try:\n",
    "    for i in driver.find_elements(By.XPATH,'//span[@class=\"lister-item-year text-muted unbold\"]'):\n",
    "        Year_span.append(i.text)\n",
    "except NoSuchElementException:\n",
    "    Year_span.append('-')\n",
    "    time.sleep(5)"
   ]
  },
  {
   "cell_type": "code",
   "execution_count": 169,
   "id": "523e9979",
   "metadata": {},
   "outputs": [
    {
     "data": {
      "text/plain": [
       "100"
      ]
     },
     "execution_count": 169,
     "metadata": {},
     "output_type": "execute_result"
    }
   ],
   "source": [
    "\n",
    "len(Year_span)"
   ]
  },
  {
   "cell_type": "code",
   "execution_count": 170,
   "id": "098fe0ef",
   "metadata": {},
   "outputs": [],
   "source": [
    "Genre=[]\n",
    "try:\n",
    "    for i in driver.find_elements(By.XPATH,'//span[@class=\"genre\"]'):\n",
    "        Genre.append(i.text)\n",
    "except NoSuchElementException:\n",
    "    Genre.append('-')\n",
    "    time.sleep(5)"
   ]
  },
  {
   "cell_type": "code",
   "execution_count": 171,
   "id": "f5b2f666",
   "metadata": {},
   "outputs": [
    {
     "data": {
      "text/plain": [
       "100"
      ]
     },
     "execution_count": 171,
     "metadata": {},
     "output_type": "execute_result"
    }
   ],
   "source": [
    "\n",
    "len(Genre)"
   ]
  },
  {
   "cell_type": "code",
   "execution_count": 172,
   "id": "191ba7c0",
   "metadata": {},
   "outputs": [],
   "source": [
    "Run_time=[]\n",
    "try:\n",
    "    for i in driver.find_elements(By.XPATH,'//span[@class=\"runtime\"]'):\n",
    "        Run_time.append(i.text)\n",
    "except NoSuchElementException:\n",
    "    Run_time.append('-')\n",
    "    time.sleep(5)\n",
    " "
   ]
  },
  {
   "cell_type": "code",
   "execution_count": 173,
   "id": "a0343ee5",
   "metadata": {},
   "outputs": [
    {
     "data": {
      "text/plain": [
       "100"
      ]
     },
     "execution_count": 173,
     "metadata": {},
     "output_type": "execute_result"
    }
   ],
   "source": [
    " \n",
    "len(Run_time)"
   ]
  },
  {
   "cell_type": "code",
   "execution_count": 174,
   "id": "7f4aa4b0",
   "metadata": {},
   "outputs": [],
   "source": [
    "Ratings=[]\n",
    "try:\n",
    "    for i in driver.find_elements(By.XPATH,'//div[@class=\"ipl-rating-star small\"]//span[2]'):\n",
    "        Ratings.append(i.text)\n",
    "except NoSuchElementException:\n",
    "    Ratings.append('-')\n",
    "    time.sleep(5)"
   ]
  },
  {
   "cell_type": "code",
   "execution_count": 175,
   "id": "131d7774",
   "metadata": {},
   "outputs": [
    {
     "data": {
      "text/plain": [
       "100"
      ]
     },
     "execution_count": 175,
     "metadata": {},
     "output_type": "execute_result"
    }
   ],
   "source": [
    "\n",
    "len(Ratings)"
   ]
  },
  {
   "cell_type": "code",
   "execution_count": 176,
   "id": "94526f0f",
   "metadata": {},
   "outputs": [],
   "source": [
    "Vote=[]\n",
    "try:\n",
    "    for i in driver.find_elements(By.XPATH,'//span[@name=\"nv\"]'):\n",
    "        Vote.append(i.text)\n",
    "except NoSuchElementException:\n",
    "    Vote.append('-')\n",
    "    time.sleep(5)"
   ]
  },
  {
   "cell_type": "code",
   "execution_count": 177,
   "id": "ae8079f0",
   "metadata": {},
   "outputs": [
    {
     "data": {
      "text/plain": [
       "100"
      ]
     },
     "execution_count": 177,
     "metadata": {},
     "output_type": "execute_result"
    }
   ],
   "source": [
    "len(Vote)"
   ]
  },
  {
   "cell_type": "code",
   "execution_count": 178,
   "id": "3dafae14",
   "metadata": {},
   "outputs": [
    {
     "data": {
      "text/html": [
       "<div>\n",
       "<style scoped>\n",
       "    .dataframe tbody tr th:only-of-type {\n",
       "        vertical-align: middle;\n",
       "    }\n",
       "\n",
       "    .dataframe tbody tr th {\n",
       "        vertical-align: top;\n",
       "    }\n",
       "\n",
       "    .dataframe thead th {\n",
       "        text-align: right;\n",
       "    }\n",
       "</style>\n",
       "<table border=\"1\" class=\"dataframe\">\n",
       "  <thead>\n",
       "    <tr style=\"text-align: right;\">\n",
       "      <th></th>\n",
       "      <th>Name</th>\n",
       "      <th>Year_span</th>\n",
       "      <th>Genre</th>\n",
       "      <th>Run_time</th>\n",
       "      <th>Ratings</th>\n",
       "      <th>Vote</th>\n",
       "    </tr>\n",
       "  </thead>\n",
       "  <tbody>\n",
       "    <tr>\n",
       "      <th>0</th>\n",
       "      <td>Game of Thrones</td>\n",
       "      <td>(2011–2019)</td>\n",
       "      <td>Action, Adventure, Drama</td>\n",
       "      <td>57 min</td>\n",
       "      <td>9.2</td>\n",
       "      <td>2,161,520</td>\n",
       "    </tr>\n",
       "    <tr>\n",
       "      <th>1</th>\n",
       "      <td>Stranger Things</td>\n",
       "      <td>(2016–2022)</td>\n",
       "      <td>Drama, Fantasy, Horror</td>\n",
       "      <td>51 min</td>\n",
       "      <td>8.7</td>\n",
       "      <td>1,241,850</td>\n",
       "    </tr>\n",
       "    <tr>\n",
       "      <th>2</th>\n",
       "      <td>The Walking Dead</td>\n",
       "      <td>(2010–2022)</td>\n",
       "      <td>Drama, Horror, Thriller</td>\n",
       "      <td>44 min</td>\n",
       "      <td>8.1</td>\n",
       "      <td>1,026,893</td>\n",
       "    </tr>\n",
       "    <tr>\n",
       "      <th>3</th>\n",
       "      <td>13 Reasons Why</td>\n",
       "      <td>(2017–2020)</td>\n",
       "      <td>Drama, Mystery, Thriller</td>\n",
       "      <td>60 min</td>\n",
       "      <td>7.5</td>\n",
       "      <td>302,081</td>\n",
       "    </tr>\n",
       "    <tr>\n",
       "      <th>4</th>\n",
       "      <td>The 100</td>\n",
       "      <td>(2014–2020)</td>\n",
       "      <td>Drama, Mystery, Sci-Fi</td>\n",
       "      <td>43 min</td>\n",
       "      <td>7.6</td>\n",
       "      <td>261,178</td>\n",
       "    </tr>\n",
       "    <tr>\n",
       "      <th>...</th>\n",
       "      <td>...</td>\n",
       "      <td>...</td>\n",
       "      <td>...</td>\n",
       "      <td>...</td>\n",
       "      <td>...</td>\n",
       "      <td>...</td>\n",
       "    </tr>\n",
       "    <tr>\n",
       "      <th>95</th>\n",
       "      <td>Reign</td>\n",
       "      <td>(2013–2017)</td>\n",
       "      <td>Drama</td>\n",
       "      <td>42 min</td>\n",
       "      <td>7.4</td>\n",
       "      <td>51,655</td>\n",
       "    </tr>\n",
       "    <tr>\n",
       "      <th>96</th>\n",
       "      <td>A Series of Unfortunate Events</td>\n",
       "      <td>(2017–2019)</td>\n",
       "      <td>Adventure, Comedy, Drama</td>\n",
       "      <td>50 min</td>\n",
       "      <td>7.8</td>\n",
       "      <td>63,687</td>\n",
       "    </tr>\n",
       "    <tr>\n",
       "      <th>97</th>\n",
       "      <td>Criminal Minds</td>\n",
       "      <td>(2005– )</td>\n",
       "      <td>Crime, Drama, Mystery</td>\n",
       "      <td>42 min</td>\n",
       "      <td>8.1</td>\n",
       "      <td>207,580</td>\n",
       "    </tr>\n",
       "    <tr>\n",
       "      <th>98</th>\n",
       "      <td>Scream: The TV Series</td>\n",
       "      <td>(2015–2019)</td>\n",
       "      <td>Comedy, Crime, Drama</td>\n",
       "      <td>45 min</td>\n",
       "      <td>7</td>\n",
       "      <td>43,192</td>\n",
       "    </tr>\n",
       "    <tr>\n",
       "      <th>99</th>\n",
       "      <td>The Haunting of Hill House</td>\n",
       "      <td>(2018)</td>\n",
       "      <td>Drama, Horror, Mystery</td>\n",
       "      <td>572 min</td>\n",
       "      <td>8.6</td>\n",
       "      <td>258,005</td>\n",
       "    </tr>\n",
       "  </tbody>\n",
       "</table>\n",
       "<p>100 rows × 6 columns</p>\n",
       "</div>"
      ],
      "text/plain": [
       "                              Name    Year_span                     Genre  \\\n",
       "0                  Game of Thrones  (2011–2019)  Action, Adventure, Drama   \n",
       "1                  Stranger Things  (2016–2022)    Drama, Fantasy, Horror   \n",
       "2                 The Walking Dead  (2010–2022)   Drama, Horror, Thriller   \n",
       "3                   13 Reasons Why  (2017–2020)  Drama, Mystery, Thriller   \n",
       "4                          The 100  (2014–2020)    Drama, Mystery, Sci-Fi   \n",
       "..                             ...          ...                       ...   \n",
       "95                           Reign  (2013–2017)                     Drama   \n",
       "96  A Series of Unfortunate Events  (2017–2019)  Adventure, Comedy, Drama   \n",
       "97                  Criminal Minds     (2005– )     Crime, Drama, Mystery   \n",
       "98           Scream: The TV Series  (2015–2019)      Comedy, Crime, Drama   \n",
       "99      The Haunting of Hill House       (2018)    Drama, Horror, Mystery   \n",
       "\n",
       "   Run_time Ratings       Vote  \n",
       "0    57 min     9.2  2,161,520  \n",
       "1    51 min     8.7  1,241,850  \n",
       "2    44 min     8.1  1,026,893  \n",
       "3    60 min     7.5    302,081  \n",
       "4    43 min     7.6    261,178  \n",
       "..      ...     ...        ...  \n",
       "95   42 min     7.4     51,655  \n",
       "96   50 min     7.8     63,687  \n",
       "97   42 min     8.1    207,580  \n",
       "98   45 min       7     43,192  \n",
       "99  572 min     8.6    258,005  \n",
       "\n",
       "[100 rows x 6 columns]"
      ]
     },
     "execution_count": 178,
     "metadata": {},
     "output_type": "execute_result"
    }
   ],
   "source": [
    "#Lets make datafram\n",
    "import pandas as pd\n",
    "data=pd.DataFrame({\"Name\":Name,\"Year_span\":Year_span,\"Genre\":Genre,\"Run_time\":Run_time,\"Ratings\":Ratings,\"Vote\":Vote})\n",
    "data"
   ]
  },
  {
   "cell_type": "code",
   "execution_count": 179,
   "id": "cb9506da",
   "metadata": {},
   "outputs": [],
   "source": [
    "driver.close()"
   ]
  },
  {
   "cell_type": "markdown",
   "id": "7385aca8",
   "metadata": {},
   "source": [
    "# 8. Details of Datasets from UCI machine learning repositories. Url = https://archive.ics.uci.edu/\n",
    "\n",
    "## You have to find the following details:\n",
    "\n",
    "A) Dataset name\n",
    "\n",
    "B) Data type\n",
    "\n",
    "C) Task\n",
    "\n",
    "D) Attribute type\n",
    "\n",
    "E) No of instances\n",
    "\n",
    "F) No of attribute\n",
    "\n",
    "G) Year\n",
    "\n",
    "Note: - from the home page you have to go to the ShowAllDataset page through code"
   ]
  },
  {
   "cell_type": "code",
   "execution_count": 180,
   "id": "430e855a",
   "metadata": {},
   "outputs": [
    {
     "data": {
      "text/plain": [
       "<selenium.webdriver.chrome.webdriver.WebDriver (session=\"f40f7b960163ccf29047d65afde8f559\")>"
      ]
     },
     "execution_count": 180,
     "metadata": {},
     "output_type": "execute_result"
    }
   ],
   "source": [
    "#First Connect to web driver \n",
    "\n",
    "driver = webdriver.Chrome(r\"C:\\Users\\ehsan\\anaconda3\\Chrome.exe\")\n",
    "driver"
   ]
  },
  {
   "cell_type": "code",
   "execution_count": 181,
   "id": "9f82e014",
   "metadata": {},
   "outputs": [],
   "source": [
    "url=\"https://archive.ics.uci.edu/\" # Here i am assigning the link in url name variable \n",
    "driver.get(url)"
   ]
  },
  {
   "cell_type": "code",
   "execution_count": 182,
   "id": "daf8c3ba",
   "metadata": {},
   "outputs": [],
   "source": [
    "driver.find_element(By.XPATH,'//td//span[2][@class=\"whitetext\"]//a').click()"
   ]
  },
  {
   "cell_type": "code",
   "execution_count": 183,
   "id": "aad411c2",
   "metadata": {},
   "outputs": [],
   "source": [
    "Dataset_name=[]\n",
    "try:\n",
    "    for i in driver.find_elements(By.XPATH,'//p[@class=\"normal\"]//b//a'):\n",
    "        Dataset_name.append(i.text)\n",
    "except NoSuchElementException:\n",
    "    Dataset_name.append('-')\n",
    "    time.sleep(5)"
   ]
  },
  {
   "cell_type": "code",
   "execution_count": 184,
   "id": "83e1fd9d",
   "metadata": {},
   "outputs": [],
   "source": [
    "Data_type=[]\n",
    "try:\n",
    "    for i in driver.find_elements(By.XPATH,'//table[2]//tbody[1]//tr[1]//td[3]//p[@class=\"normal\"]'):\n",
    "        Data_type.append(i.text)\n",
    "except NoSuchElementException:\n",
    "    Data_type.append('-')\n",
    "    time.sleep(5)\n",
    "    "
   ]
  },
  {
   "cell_type": "code",
   "execution_count": 185,
   "id": "77c801dc",
   "metadata": {},
   "outputs": [],
   "source": [
    "Task=[]\n",
    "try:\n",
    "    for i in driver.find_elements(By.XPATH,'//table[2]//tbody[1]//tr[1]//td[4]//p[@class=\"normal\"]'):\n",
    "        Task.append(i.text)\n",
    "except NoSuchElementException:\n",
    "    Task.append('-')\n",
    "    time.sleep(5)"
   ]
  },
  {
   "cell_type": "code",
   "execution_count": 186,
   "id": "c9bb9de2",
   "metadata": {},
   "outputs": [],
   "source": [
    "Attribute_type=[]\n",
    "try:\n",
    "    for i in driver.find_elements(By.XPATH,'//table[2]//tbody[1]//tr[1]//td[4]//p[@class=\"normal\"]'):\n",
    "        Attribute_type.append(i.text)\n",
    "except NoSuchElementException:\n",
    "    Attribute_type.append('-')\n",
    "    time.sleep(5)"
   ]
  },
  {
   "cell_type": "code",
   "execution_count": 187,
   "id": "19dd8904",
   "metadata": {},
   "outputs": [],
   "source": [
    "No_of_instances=[]\n",
    "try:\n",
    "    for i in driver.find_elements(By.XPATH,'//table[2]//tbody[1]//tr[1]//td[5]//p[@class=\"normal\"]'):\n",
    "        No_of_instances.append(i.text)\n",
    "except NoSuchElementException:\n",
    "    No_of_instances.append('-')\n",
    "    time.sleep(5)"
   ]
  },
  {
   "cell_type": "code",
   "execution_count": 188,
   "id": "df19af0f",
   "metadata": {},
   "outputs": [],
   "source": [
    "No_of_attribute=[]\n",
    "try:\n",
    "    for i in driver.find_elements(By.XPATH,'//table[2]//tbody[1]//tr[1]//td[6]//p[@class=\"normal\"]'):\n",
    "        No_of_attribute.append(i.text)\n",
    "except NoSuchElementException:\n",
    "    No_of_attribute.append('-')\n",
    "    time.sleep(5)"
   ]
  },
  {
   "cell_type": "code",
   "execution_count": 189,
   "id": "a65d2a78",
   "metadata": {},
   "outputs": [],
   "source": [
    "Year=[]\n",
    "try:\n",
    "    for i in driver.find_elements(By.XPATH,'//table[2]//tbody[1]//tr[1]//td[7]//p[@class=\"normal\"]'):\n",
    "        Year.append(i.text)\n",
    "except NoSuchElementException:\n",
    "    Year.append('-')\n",
    "    time.sleep(5)"
   ]
  },
  {
   "cell_type": "code",
   "execution_count": 190,
   "id": "e21d2f32",
   "metadata": {},
   "outputs": [
    {
     "data": {
      "text/html": [
       "<div>\n",
       "<style scoped>\n",
       "    .dataframe tbody tr th:only-of-type {\n",
       "        vertical-align: middle;\n",
       "    }\n",
       "\n",
       "    .dataframe tbody tr th {\n",
       "        vertical-align: top;\n",
       "    }\n",
       "\n",
       "    .dataframe thead th {\n",
       "        text-align: right;\n",
       "    }\n",
       "</style>\n",
       "<table border=\"1\" class=\"dataframe\">\n",
       "  <thead>\n",
       "    <tr style=\"text-align: right;\">\n",
       "      <th></th>\n",
       "      <th>Dataset_name</th>\n",
       "      <th>Data_type</th>\n",
       "      <th>Task</th>\n",
       "      <th>Attribute_type</th>\n",
       "      <th>No_of_instances</th>\n",
       "      <th>No_of_attribute</th>\n",
       "      <th>Year</th>\n",
       "    </tr>\n",
       "  </thead>\n",
       "  <tbody>\n",
       "    <tr>\n",
       "      <th>0</th>\n",
       "      <td>Abalone</td>\n",
       "      <td>Classification</td>\n",
       "      <td>Categorical, Integer, Real</td>\n",
       "      <td>Categorical, Integer, Real</td>\n",
       "      <td>4177</td>\n",
       "      <td>8</td>\n",
       "      <td>1995</td>\n",
       "    </tr>\n",
       "    <tr>\n",
       "      <th>1</th>\n",
       "      <td>Adult</td>\n",
       "      <td>Classification</td>\n",
       "      <td>Categorical, Integer</td>\n",
       "      <td>Categorical, Integer</td>\n",
       "      <td>48842</td>\n",
       "      <td>14</td>\n",
       "      <td>1996</td>\n",
       "    </tr>\n",
       "    <tr>\n",
       "      <th>2</th>\n",
       "      <td>Annealing</td>\n",
       "      <td>Classification</td>\n",
       "      <td>Categorical, Integer, Real</td>\n",
       "      <td>Categorical, Integer, Real</td>\n",
       "      <td>798</td>\n",
       "      <td>38</td>\n",
       "      <td></td>\n",
       "    </tr>\n",
       "    <tr>\n",
       "      <th>3</th>\n",
       "      <td>Anonymous Microsoft Web Data</td>\n",
       "      <td>Recommender-Systems</td>\n",
       "      <td>Categorical</td>\n",
       "      <td>Categorical</td>\n",
       "      <td>37711</td>\n",
       "      <td>294</td>\n",
       "      <td>1998</td>\n",
       "    </tr>\n",
       "    <tr>\n",
       "      <th>4</th>\n",
       "      <td>Arrhythmia</td>\n",
       "      <td>Classification</td>\n",
       "      <td>Categorical, Integer, Real</td>\n",
       "      <td>Categorical, Integer, Real</td>\n",
       "      <td>452</td>\n",
       "      <td>279</td>\n",
       "      <td>1998</td>\n",
       "    </tr>\n",
       "    <tr>\n",
       "      <th>...</th>\n",
       "      <td>...</td>\n",
       "      <td>...</td>\n",
       "      <td>...</td>\n",
       "      <td>...</td>\n",
       "      <td>...</td>\n",
       "      <td>...</td>\n",
       "      <td>...</td>\n",
       "    </tr>\n",
       "    <tr>\n",
       "      <th>617</th>\n",
       "      <td>Influenza outbreak event prediction via Twitte...</td>\n",
       "      <td>Classification</td>\n",
       "      <td>Integer, Real</td>\n",
       "      <td>Integer, Real</td>\n",
       "      <td>75840</td>\n",
       "      <td>525</td>\n",
       "      <td>2020</td>\n",
       "    </tr>\n",
       "    <tr>\n",
       "      <th>618</th>\n",
       "      <td>Turkish Music Emotion Dataset</td>\n",
       "      <td>Classification</td>\n",
       "      <td>Integer, Real</td>\n",
       "      <td>Integer, Real</td>\n",
       "      <td>400</td>\n",
       "      <td>50</td>\n",
       "      <td>2020</td>\n",
       "    </tr>\n",
       "    <tr>\n",
       "      <th>619</th>\n",
       "      <td>Maternal Health Risk Data Set</td>\n",
       "      <td>Classification</td>\n",
       "      <td></td>\n",
       "      <td></td>\n",
       "      <td>1014</td>\n",
       "      <td>7</td>\n",
       "      <td>2020</td>\n",
       "    </tr>\n",
       "    <tr>\n",
       "      <th>620</th>\n",
       "      <td>Room Occupancy Estimation</td>\n",
       "      <td>Classification</td>\n",
       "      <td>Real</td>\n",
       "      <td>Real</td>\n",
       "      <td>10129</td>\n",
       "      <td>16</td>\n",
       "      <td>2021</td>\n",
       "    </tr>\n",
       "    <tr>\n",
       "      <th>621</th>\n",
       "      <td>Image Recognition Task Execution Times in Mobi...</td>\n",
       "      <td>Regression</td>\n",
       "      <td>Real</td>\n",
       "      <td>Real</td>\n",
       "      <td>4000</td>\n",
       "      <td>2</td>\n",
       "      <td>2021</td>\n",
       "    </tr>\n",
       "  </tbody>\n",
       "</table>\n",
       "<p>622 rows × 7 columns</p>\n",
       "</div>"
      ],
      "text/plain": [
       "                                          Dataset_name             Data_type  \\\n",
       "0                                              Abalone       Classification    \n",
       "1                                                Adult       Classification    \n",
       "2                                            Annealing       Classification    \n",
       "3                         Anonymous Microsoft Web Data  Recommender-Systems    \n",
       "4                                           Arrhythmia       Classification    \n",
       "..                                                 ...                   ...   \n",
       "617  Influenza outbreak event prediction via Twitte...       Classification    \n",
       "618                      Turkish Music Emotion Dataset       Classification    \n",
       "619                      Maternal Health Risk Data Set       Classification    \n",
       "620                          Room Occupancy Estimation       Classification    \n",
       "621  Image Recognition Task Execution Times in Mobi...           Regression    \n",
       "\n",
       "                            Task               Attribute_type No_of_instances  \\\n",
       "0    Categorical, Integer, Real   Categorical, Integer, Real            4177    \n",
       "1          Categorical, Integer         Categorical, Integer           48842    \n",
       "2    Categorical, Integer, Real   Categorical, Integer, Real             798    \n",
       "3                   Categorical                  Categorical           37711    \n",
       "4    Categorical, Integer, Real   Categorical, Integer, Real             452    \n",
       "..                           ...                          ...             ...   \n",
       "617               Integer, Real                Integer, Real           75840    \n",
       "618               Integer, Real                Integer, Real             400    \n",
       "619                                                                     1014    \n",
       "620                        Real                         Real           10129    \n",
       "621                        Real                         Real            4000    \n",
       "\n",
       "    No_of_attribute   Year  \n",
       "0                8   1995   \n",
       "1               14   1996   \n",
       "2               38          \n",
       "3              294   1998   \n",
       "4              279   1998   \n",
       "..              ...    ...  \n",
       "617            525   2020   \n",
       "618             50   2020   \n",
       "619              7   2020   \n",
       "620             16   2021   \n",
       "621              2   2021   \n",
       "\n",
       "[622 rows x 7 columns]"
      ]
     },
     "execution_count": 190,
     "metadata": {},
     "output_type": "execute_result"
    }
   ],
   "source": [
    "#Lets Make DataFrame\n",
    "import pandas as pd\n",
    "data=pd.DataFrame({\"Dataset_name\":Dataset_name,\"Data_type\":Data_type,\"Task\":Task,\"Attribute_type\":Attribute_type,\"No_of_instances\":No_of_instances,\"No_of_attribute\":No_of_attribute,\"Year\":Year})\n",
    "data"
   ]
  },
  {
   "cell_type": "code",
   "execution_count": 191,
   "id": "41de66bd",
   "metadata": {},
   "outputs": [],
   "source": [
    "driver.close()"
   ]
  },
  {
   "cell_type": "markdown",
   "id": "e16782ef",
   "metadata": {},
   "source": [
    "# 9.Scrape the details of Data science recruiters from naukri.com.Url = https://www.naukri.com/\n",
    "\n",
    "## You have to find the following details:\n",
    "\n",
    "A) Name\n",
    "\n",
    "B) Designation\n",
    "\n",
    "C) Company\n",
    "\n",
    "D) Skills they hire for\n",
    "\n",
    "E) Location\n",
    "\n",
    "Note: - From naukri.com homepage click on the recruiters option and the on the search pane type Data science and click on search. All this should be done through code"
   ]
  },
  {
   "cell_type": "code",
   "execution_count": 262,
   "id": "6caf6270",
   "metadata": {},
   "outputs": [
    {
     "data": {
      "text/plain": [
       "<selenium.webdriver.chrome.webdriver.WebDriver (session=\"7c8d150c04c49eab4b6c639302714f93\")>"
      ]
     },
     "execution_count": 262,
     "metadata": {},
     "output_type": "execute_result"
    }
   ],
   "source": [
    "#First Connect to web driver \n",
    "\n",
    "driver = webdriver.Chrome(r\"C:\\Users\\ehsan\\anaconda3\\Chrome.exe\")\n",
    "driver"
   ]
  },
  {
   "cell_type": "code",
   "execution_count": 263,
   "id": "c72748f6",
   "metadata": {},
   "outputs": [],
   "source": [
    "url=\"https://www.naukri.com/hr-recruiters-consultants\" # Here i am assigning the link in url name variable \n",
    "driver.get(url)"
   ]
  },
  {
   "cell_type": "code",
   "execution_count": 264,
   "id": "42da2803",
   "metadata": {},
   "outputs": [
    {
     "name": "stdout",
     "output_type": "stream",
     "text": [
      "Search What You WantData Science\n"
     ]
    },
    {
     "data": {
      "text/plain": [
       "'Data Science'"
      ]
     },
     "execution_count": 264,
     "metadata": {},
     "output_type": "execute_result"
    }
   ],
   "source": [
    "user_input=input(\"Search What You Want\")\n",
    "user_input"
   ]
  },
  {
   "cell_type": "code",
   "execution_count": 265,
   "id": "a49ef01b",
   "metadata": {},
   "outputs": [],
   "source": [
    "#Finding the web element for search \"Data Science\"\n",
    "search_job=driver.find_element(By.XPATH,\"//input[@class='sugInp']\")\n",
    "search_job.send_keys(user_input)"
   ]
  },
  {
   "cell_type": "code",
   "execution_count": 266,
   "id": "808e0c6e",
   "metadata": {},
   "outputs": [],
   "source": [
    "driver.find_element(By.XPATH,\"/html/body/div[2]/div[2]/div[1]/div[1]/form/div[1]/button\").click()"
   ]
  },
  {
   "cell_type": "code",
   "execution_count": 267,
   "id": "33e2eeb7",
   "metadata": {},
   "outputs": [],
   "source": [
    "Name=[]\n",
    "try:\n",
    "    for i in driver.find_elements(By.XPATH,'//span[@class=\"fl ellipsis\"]'):\n",
    "        Name.append(i.text)\n",
    "except NoSuchElementException:\n",
    "    Name.append('-')\n",
    "    time.sleep(5)"
   ]
  },
  {
   "cell_type": "code",
   "execution_count": 268,
   "id": "118a5f9b",
   "metadata": {},
   "outputs": [
    {
     "data": {
      "text/plain": [
       "50"
      ]
     },
     "execution_count": 268,
     "metadata": {},
     "output_type": "execute_result"
    }
   ],
   "source": [
    "len(Name)"
   ]
  },
  {
   "cell_type": "code",
   "execution_count": 269,
   "id": "31136499",
   "metadata": {},
   "outputs": [],
   "source": [
    "Designation=[]\n",
    "try:\n",
    "    for i in driver.find_elements(By.XPATH,'//span[@class=\"ellipsis clr\"]'):\n",
    "        Designation.append(i.text)\n",
    "except NoSuchElementException:\n",
    "    Designation.append('-')\n",
    "    time.sleep(5)"
   ]
  },
  {
   "cell_type": "code",
   "execution_count": 270,
   "id": "6395a471",
   "metadata": {},
   "outputs": [
    {
     "data": {
      "text/plain": [
       "50"
      ]
     },
     "execution_count": 270,
     "metadata": {},
     "output_type": "execute_result"
    }
   ],
   "source": [
    "len(Designation)"
   ]
  },
  {
   "cell_type": "code",
   "execution_count": 271,
   "id": "0ff547ed",
   "metadata": {},
   "outputs": [],
   "source": [
    "Company=[]\n",
    "try:\n",
    "    for i in driver.find_elements(By.XPATH,'//a[@class=\"ellipsis\"]'):\n",
    "        Company.append(i.text)\n",
    "except NoSuchElementException:\n",
    "    Company.append('-')\n",
    "    time.sleep(5)"
   ]
  },
  {
   "cell_type": "code",
   "execution_count": 274,
   "id": "4f53ac83",
   "metadata": {},
   "outputs": [
    {
     "data": {
      "text/plain": [
       "['Shore Infotech India Pvt. Ltd',\n",
       " 'Enerlytics Software Solutions Pvt Ltd',\n",
       " 'Apidel Technologies Division of Transpower',\n",
       " 'Techvantage Systems Pvt Ltd',\n",
       " 'CBL Data Science Private Limited',\n",
       " 'MoneyTap',\n",
       " 'Infinitive Software Solutions',\n",
       " 'SocialPrachar.com',\n",
       " 'BIZ INFOTECNO PRIVATE LIMITED',\n",
       " 'Easi Tax',\n",
       " 'AXESTRACK SOFTWARE SOLUTIONS PRIVATE...',\n",
       " 'Affine Analytics',\n",
       " 'Exela Technologies',\n",
       " 'NEAL ANALYTICS SERVICES PVT LTD',\n",
       " 'trainin',\n",
       " 'R.S Consultancy &amp; Services',\n",
       " 'RMS Risk Management Solutions',\n",
       " 'Nikitha Palaparthi',\n",
       " 'ASCO consulting',\n",
       " '3D India Staffing Research &amp; Consulting...',\n",
       " 'Demand Matrix',\n",
       " 'Suntech Global',\n",
       " 'Impel Labs Pvt. Ltd.',\n",
       " 'Saras Solutions India Pvt Ltd',\n",
       " 'LNT Private Limited']"
      ]
     },
     "execution_count": 274,
     "metadata": {},
     "output_type": "execute_result"
    }
   ],
   "source": [
    "Company=Company[1:100:2]\n",
    "Company"
   ]
  },
  {
   "cell_type": "code",
   "execution_count": 275,
   "id": "a89822fc",
   "metadata": {},
   "outputs": [],
   "source": [
    "Skill=[]\n",
    "try:\n",
    "    for i in driver.find_elements(By.XPATH,'//div[@class=\"hireSec highlightable\"]'):\n",
    "        Skill.append(i.text)\n",
    "except NoSuchElementException:\n",
    "    Skill.append('-')\n",
    "    time.sleep(5)"
   ]
  },
  {
   "cell_type": "code",
   "execution_count": 276,
   "id": "6d528d12",
   "metadata": {},
   "outputs": [
    {
     "data": {
      "text/plain": [
       "50"
      ]
     },
     "execution_count": 276,
     "metadata": {},
     "output_type": "execute_result"
    }
   ],
   "source": [
    "len(Skill)"
   ]
  },
  {
   "cell_type": "code",
   "execution_count": 281,
   "id": "88db67d0",
   "metadata": {},
   "outputs": [],
   "source": [
    "Location=[]\n",
    "try:\n",
    "    for i in driver.find_elements(By.XPATH,'//small[@class=class=\"ellipsis\"]'):\n",
    "        Location.append(i.text)\n",
    "except :\n",
    "    Location.append('Nan')\n",
    "    time.sleep(5) "
   ]
  },
  {
   "cell_type": "code",
   "execution_count": 282,
   "id": "c08402ff",
   "metadata": {},
   "outputs": [
    {
     "data": {
      "text/plain": [
       "0"
      ]
     },
     "execution_count": 282,
     "metadata": {},
     "output_type": "execute_result"
    }
   ],
   "source": [
    "len(Location)"
   ]
  },
  {
   "cell_type": "code",
   "execution_count": 277,
   "id": "44386058",
   "metadata": {},
   "outputs": [
    {
     "data": {
      "text/plain": [
       "25"
      ]
     },
     "execution_count": 277,
     "metadata": {},
     "output_type": "execute_result"
    }
   ],
   "source": [
    "Name=Name[0:48]\n",
    "len(Name)\n",
    "Company=Company[0:50]\n",
    "len(Company)"
   ]
  },
  {
   "cell_type": "code",
   "execution_count": 278,
   "id": "ee582181",
   "metadata": {},
   "outputs": [
    {
     "data": {
      "text/plain": [
       "50"
      ]
     },
     "execution_count": 278,
     "metadata": {},
     "output_type": "execute_result"
    }
   ],
   "source": [
    "Skill=Skill[0:50]\n",
    "len(Skill)"
   ]
  },
  {
   "cell_type": "code",
   "execution_count": 279,
   "id": "cbd247b4",
   "metadata": {},
   "outputs": [
    {
     "data": {
      "text/plain": [
       "50"
      ]
     },
     "execution_count": 279,
     "metadata": {},
     "output_type": "execute_result"
    }
   ],
   "source": [
    "Designation=Designation[0:50]\n",
    "len(Designation)"
   ]
  },
  {
   "cell_type": "code",
   "execution_count": null,
   "id": "f7e8851b",
   "metadata": {},
   "outputs": [],
   "source": [
    "import pandas as pd\n",
    "data=pd.DataFrame({\"Name\":Name,\"Company\":Company,\"Designation\":Designation,\"Skill\":Skill,\"Location\":Location})\n",
    "data"
   ]
  },
  {
   "cell_type": "code",
   "execution_count": null,
   "id": "d1600c9a",
   "metadata": {},
   "outputs": [],
   "source": [
    "driver.close()"
   ]
  }
 ],
 "metadata": {
  "kernelspec": {
   "display_name": "Python 3 (ipykernel)",
   "language": "python",
   "name": "python3"
  },
  "language_info": {
   "codemirror_mode": {
    "name": "ipython",
    "version": 3
   },
   "file_extension": ".py",
   "mimetype": "text/x-python",
   "name": "python",
   "nbconvert_exporter": "python",
   "pygments_lexer": "ipython3",
   "version": "3.10.9"
  }
 },
 "nbformat": 4,
 "nbformat_minor": 5
}
